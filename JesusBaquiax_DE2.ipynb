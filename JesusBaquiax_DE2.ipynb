{
  "nbformat": 4,
  "nbformat_minor": 0,
  "metadata": {
    "colab": {
      "name": "JesusBaquiax_DE2.ipynb",
      "provenance": [],
      "collapsed_sections": []
    },
    "kernelspec": {
      "name": "python3",
      "display_name": "Python 3"
    },
    "language_info": {
      "name": "python"
    }
  },
  "cells": [
    {
      "cell_type": "code",
      "execution_count": 1,
      "metadata": {
        "id": "8mFZf2UxJk95"
      },
      "outputs": [],
      "source": [
        "# comment out after initial run\n",
        "\n",
        "# !apt-get install openjdk-8-jdk-headless -qq > /dev/null\n",
        "# !wget -q https://downloads.apache.org/spark/spark-3.1.2/spark-3.1.2-bin-hadoop2.7.tgz\n",
        "# !tar -xvf spark-3.1.2-bin-hadoop2.7.tgz\n",
        "# !pip install -q findspark\n",
        "# !pip install pyspark\n",
        "# import os\n",
        "# os.environ[\"JAVA_HOME\"] = \"/usr/lib/jvm/java-8-openjdk-amd64\"\n",
        "# os.environ[\"SPARK_HOME\"] = \"/content/spark-3.1.2-bin-hadoop2.7\""
      ]
    },
    {
      "cell_type": "code",
      "source": [
        "import pandas as pd \n",
        "import numpy as np\n",
        "import pyspark\n",
        "from pyspark.sql import SparkSession \n",
        "from pyspark.sql.functions import *  \n",
        "import findspark\n",
        "findspark.init() "
      ],
      "metadata": {
        "id": "WeYRUP3RKZFx"
      },
      "execution_count": 2,
      "outputs": []
    },
    {
      "cell_type": "code",
      "source": [
        "spark = SparkSession.builder \\\n",
        "    .master(\"local\") \\\n",
        "    .appName(\"JB_APP\") \\\n",
        "    .getOrCreate()"
      ],
      "metadata": {
        "id": "NuqOmqr1KY5B"
      },
      "execution_count": 3,
      "outputs": []
    },
    {
      "cell_type": "code",
      "source": [
        "spark.getActiveSession()"
      ],
      "metadata": {
        "colab": {
          "base_uri": "https://localhost:8080/",
          "height": 219
        },
        "id": "oh928fmbKYNs",
        "outputId": "eb47a9b3-2885-4bd3-8985-1a4f9634a152"
      },
      "execution_count": 4,
      "outputs": [
        {
          "output_type": "execute_result",
          "data": {
            "text/html": [
              "\n",
              "            <div>\n",
              "                <p><b>SparkSession - in-memory</b></p>\n",
              "                \n",
              "        <div>\n",
              "            <p><b>SparkContext</b></p>\n",
              "\n",
              "            <p><a href=\"http://5e8d1cb673a7:4040\">Spark UI</a></p>\n",
              "\n",
              "            <dl>\n",
              "              <dt>Version</dt>\n",
              "                <dd><code>v3.2.1</code></dd>\n",
              "              <dt>Master</dt>\n",
              "                <dd><code>local</code></dd>\n",
              "              <dt>AppName</dt>\n",
              "                <dd><code>JB_APP</code></dd>\n",
              "            </dl>\n",
              "        </div>\n",
              "        \n",
              "            </div>\n",
              "        "
            ],
            "text/plain": [
              "<pyspark.sql.session.SparkSession at 0x7f06a8ebfed0>"
            ]
          },
          "metadata": {},
          "execution_count": 4
        }
      ]
    },
    {
      "cell_type": "code",
      "source": [
        "Parquet_DF = spark.read.parquet(\"/content/drive/MyDrive/df_pandas.parquet.gzip\")"
      ],
      "metadata": {
        "id": "Fxgvmt3vMNZg"
      },
      "execution_count": 5,
      "outputs": []
    },
    {
      "cell_type": "code",
      "source": [
        "Parquet_DF.show()"
      ],
      "metadata": {
        "colab": {
          "base_uri": "https://localhost:8080/"
        },
        "id": "J7zG_dTXKsoy",
        "outputId": "40d6c985-1f15-440d-a6c3-466ca5b401bc"
      },
      "execution_count": 6,
      "outputs": [
        {
          "output_type": "stream",
          "name": "stdout",
          "text": [
            "+-------------+-------------------+----------+--------+--------------+-----------------+----+----------+-----+--------------------+-----+------+--------------+---------------------+-----------+---------+---------+------------------+---------+----------+---------+---------+---------+---------+---------+---------+-----------------+----------+\n",
            "|Ticket_number|         Issue_Date|Issue_time|Meter_Id|RP_State_Plate|Plate_Expiry_Date|Make|Body_Style|Color|            Location|Route|Agency|Violation_code|Violation_Description|Fine_amount| Latitude|Longitude|Distance_to_pointA|address_0| address_1|address_2|address_3|address_4|address_5|address_6|address_7|__index_level_0__|Issue_year|\n",
            "+-------------+-------------------+----------+--------+--------------+-----------------+----+----------+-----+--------------------+-----+------+--------------+---------------------+-----------+---------+---------+------------------+---------+----------+---------+---------+---------+---------+---------+---------+-----------------+----------+\n",
            "|   4274301964|2016-01-04 00:00:00|    1205.0|    null|            TX|             null|OTHR|        TR|   WT|      2650 12TH ST E|  6T8|  56.0|        80.69B|           NO PARKING|       73.0|6494776.0|1830622.8|61491.492380979034|     2650|      12TH|       ST|        E|     null|     null|     null|     null|             1958|      2016|\n",
            "|   1112130563|2016-01-10 00:00:00|    2042.0|    null|            CA|         201607.0|HOND|        PA|   BK|       380 WORLD WAY|3C218|   2.0|             0|               17104h|       59.0|6439920.1|1802686.7| 76.90318589016472|      380|     WORLD|      WAY|     null|     null|     null|     null|     null|            11720|      2016|\n",
            "|   1112130751|2016-01-09 00:00:00|    1445.0|    null|            CA|         201603.0|null|        PA|   WH|       380 WORLD WAY|2C192|   2.0|             7|               22500B|       68.0|6439920.1|1802686.7| 76.90318589016472|      380|     WORLD|      WAY|     null|     null|     null|     null|     null|            11976|      2016|\n",
            "|   4270451813|2016-01-01 00:00:00|     939.0|    null|            CA|         201601.0|VOLK|        PA|   BK|     6837 TROOST AVE|350R1|  53.0|       80.73.2|      EXCEED 72HRS-ST|       68.0|6444797.3|1893590.6| 91031.25387058016|     6837|    TROOST|      AVE|     null|     null|     null|     null|     null|            15754|      2016|\n",
            "|   4271111983|2016-01-01 00:00:00|    1855.0|    null|            CA|         201607.0|LEXS|        PA|   BK|  7811 FIGUEROA ST S|  500|  55.0|        22500E|    BLOCKING DRIVEWAY|       68.0|6475951.9|1811121.5| 36931.18593086372|     7811|  FIGUEROA|       ST|        S|     null|     null|     null|     null|            15760|      2016|\n",
            "|   4271111994|2016-01-01 00:00:00|    1909.0|    null|            CA|         201607.0|LEXS|        PA|   BK|  7811 FIGUEROA ST S|  500|  55.0|         80.61|     STANDNG IN ALLEY|       68.0|6475951.9|1811121.5| 36931.18593086372|     7811|  FIGUEROA|       ST|        S|     null|     null|     null|     null|            15761|      2016|\n",
            "|   4271112005|2016-01-01 00:00:00|    1922.0|    null|            CA|         201510.0|TOYT|        PA|   TN|      1309 53RD ST W|  500|  55.0|        5204A-|      DISPLAY OF TABS|       25.0|6471271.4|1820382.7| 35934.12425884373|     1309|      53RD|       ST|        W|     null|     null|     null|     null|            15762|      2016|\n",
            "|   4271605332|2016-01-01 00:00:00|    2052.0|    null|            CA|             null|MASE|        PA|   RD|      1313 51ST PL W|  500|  55.0|      80.56E4+|             RED ZONE|       93.0|6471248.1|1821050.3| 36247.46564520033|     1313|      51ST|       PL|        W|     null|     null|     null|     null|            15767|      2016|\n",
            "|   4272547985|2016-01-01 00:00:00|    1625.0|    null|            CA|         201511.0|HOND|        PA|   MR|     400 HAUSER BLVD|  401|  54.0|        5204A-|      DISPLAY OF TABS|       25.0|6455679.0|1846844.8| 46860.69505929254|      400|    HAUSER|     BLVD|     null|     null|     null|     null|     null|            15770|      2016|\n",
            "|   4272547996|2016-01-01 00:00:00|    1644.0|    null|            CA|         201510.0|NISS|        PA|   GY|    170 GARDNER ST S|  401|  54.0|        5204A-|      DISPLAY OF TABS|       25.0|6454703.8|1848503.9| 48120.36914498876|      170|   GARDNER|       ST|        S|     null|     null|     null|     null|            15771|      2016|\n",
            "|   4272548000|2016-01-01 00:00:00|    1654.0|    null|            CA|         201509.0|HYUN|        PA|   SL|  7600 OAKWOOD AVE W|  401|  54.0|        5204A-|      DISPLAY OF TABS|       25.0|6454077.1|1851038.8|50361.120756492244|     7600|   OAKWOOD|      AVE|        W|     null|     null|     null|     null|            15772|      2016|\n",
            "|   4272679003|2016-01-01 00:00:00|    1929.0|    null|            CA|         201610.0|DODG|        PA|   MR|1121 NORMANDIE AVE N|  400|  54.0|        22500E|    BLOCKING DRIVEWAY|       68.0|6470689.1|1855731.7| 61285.00053765172|     1121| NORMANDIE|      AVE|        N|     null|     null|     null|     null|            15773|      2016|\n",
            "|   4272679025|2016-01-01 00:00:00|    2027.0|    null|            CA|         201605.0|TOYT|        PA|   GY|1922 VISTA DEL MA...|  400|  54.0|        22500E|    BLOCKING DRIVEWAY|       68.0|6463590.5|1860994.5| 62900.98897871161|     1922|     VISTA|      DEL|      MAR|      AVE|     null|     null|     null|            15775|      2016|\n",
            "|   4272679036|2016-01-01 00:00:00|    2103.0|    null|            CA|         201611.0|VOLK|        PA|   BL|1837 ALEXANDRIA A...|  400|  54.0|        22500H|       DOUBLE PARKING|       68.0|6471345.3|1860456.6| 65727.90988043054|     1837|ALEXANDRIA|      AVE|        N|     null|     null|     null|     null|            15776|      2016|\n",
            "|   4272757974|2016-01-01 00:00:00|     903.0|     192|            MI|         201609.0| SAA|        PA|   BL|     3395 DERONDA DR|  473|  54.0|        80.58L| PREFERENTIAL PARKING|       68.0|6465041.2|1869878.6| 71708.14074008628|     3395|   DERONDA|       DR|     null|     null|     null|     null|     null|            15777|      2016|\n",
            "|   4272757985|2016-01-01 00:00:00|    1031.0|     184|            CA|         201605.0|TOYT|        PA|   GY| 3100 BEACHWOOD DR N|  473|  54.0|        80.58L| PREFERENTIAL PARKING|       68.0|6465492.9|1868482.3| 70563.40418729828|     3100| BEACHWOOD|       DR|        N|     null|     null|     null|     null|            15778|      2016|\n",
            "|   4272811185|2016-01-01 00:00:00|    1810.0|    null|            CA|             null|BUIC|        PA|   GO|      624 BROADWAY S|  601|  56.0|      8.06E+02|           WHITE ZONE|       58.0|6485218.7|1839326.4| 58202.41458092619|      624|  BROADWAY|        S|     null|     null|     null|     null|     null|            15782|      2016|\n",
            "|   4272811196|2016-01-01 00:00:00|    1812.0|    null|            CA|             null|BUIC|        PA|   GO|      624 BROADWAY S|  601|  56.0|          5200|    DISPLAY OF PLATES|       25.0|6485218.7|1839326.4| 58202.41458092619|      624|  BROADWAY|        S|     null|     null|     null|     null|     null|            15783|      2016|\n",
            "|   4272811200|2016-01-01 00:00:00|    1828.0|    null|            CA|         201609.0|TOYT|        PA|   WT|460 BURLINGTON AVE S|  601|  56.0|      80.56E4+|             RED ZONE|       93.0|6479768.8|1843971.8| 57326.37575217876|      460|BURLINGTON|      AVE|        S|     null|     null|     null|     null|            15784|      2016|\n",
            "|   4272811233|2016-01-01 00:00:00|    1856.0|    null|            CA|         201610.0| BMW|        PA|   BK|    342 COLUMBIA AVE|  601|  56.0|        22500H|       DOUBLE PARKING|       68.0|6481400.7|1843753.1| 58316.14764454201|      342|  COLUMBIA|      AVE|     null|     null|     null|     null|     null|            15787|      2016|\n",
            "+-------------+-------------------+----------+--------+--------------+-----------------+----+----------+-----+--------------------+-----+------+--------------+---------------------+-----------+---------+---------+------------------+---------+----------+---------+---------+---------+---------+---------+---------+-----------------+----------+\n",
            "only showing top 20 rows\n",
            "\n"
          ]
        }
      ]
    },
    {
      "cell_type": "code",
      "source": [
        "# print size of the dataframe \n",
        "\n",
        "print((Parquet_DF.count(), len(Parquet_DF.columns)))"
      ],
      "metadata": {
        "colab": {
          "base_uri": "https://localhost:8080/"
        },
        "id": "UBosOFI8MqGs",
        "outputId": "a367ee06-f754-4dc2-f10b-74dd4ff9f891"
      },
      "execution_count": 7,
      "outputs": [
        {
          "output_type": "stream",
          "name": "stdout",
          "text": [
            "(748312, 28)\n"
          ]
        }
      ]
    },
    {
      "cell_type": "markdown",
      "source": [
        "##### 2. Count number distinct values for each column"
      ],
      "metadata": {
        "id": "7Z1nqz1W4ZTt"
      }
    },
    {
      "cell_type": "code",
      "source": [
        "# first time running this cell doesn't work, but will work after restarting and running all.\n",
        "\n",
        "for x in Parquet_DF.columns:\n",
        "  Parquet_DF.select(countDistinct(x)).show()"
      ],
      "metadata": {
        "colab": {
          "base_uri": "https://localhost:8080/"
        },
        "id": "xgzVZyJJXeCU",
        "outputId": "07d3f980-ccf4-4254-dc97-13a607d6b103"
      },
      "execution_count": 8,
      "outputs": [
        {
          "output_type": "stream",
          "name": "stdout",
          "text": [
            "+-----------------------------+\n",
            "|count(DISTINCT Ticket_number)|\n",
            "+-----------------------------+\n",
            "|                       748312|\n",
            "+-----------------------------+\n",
            "\n",
            "+--------------------------+\n",
            "|count(DISTINCT Issue_Date)|\n",
            "+--------------------------+\n",
            "|                       359|\n",
            "+--------------------------+\n",
            "\n",
            "+--------------------------+\n",
            "|count(DISTINCT Issue_time)|\n",
            "+--------------------------+\n",
            "|                      1440|\n",
            "+--------------------------+\n",
            "\n",
            "+------------------------+\n",
            "|count(DISTINCT Meter_Id)|\n",
            "+------------------------+\n",
            "|                   28660|\n",
            "+------------------------+\n",
            "\n",
            "+------------------------------+\n",
            "|count(DISTINCT RP_State_Plate)|\n",
            "+------------------------------+\n",
            "|                            50|\n",
            "+------------------------------+\n",
            "\n",
            "+---------------------------------+\n",
            "|count(DISTINCT Plate_Expiry_Date)|\n",
            "+---------------------------------+\n",
            "|                              344|\n",
            "+---------------------------------+\n",
            "\n",
            "+--------------------+\n",
            "|count(DISTINCT Make)|\n",
            "+--------------------+\n",
            "|                 257|\n",
            "+--------------------+\n",
            "\n",
            "+--------------------------+\n",
            "|count(DISTINCT Body_Style)|\n",
            "+--------------------------+\n",
            "|                        47|\n",
            "+--------------------------+\n",
            "\n",
            "+---------------------+\n",
            "|count(DISTINCT Color)|\n",
            "+---------------------+\n",
            "|                   45|\n",
            "+---------------------+\n",
            "\n",
            "+------------------------+\n",
            "|count(DISTINCT Location)|\n",
            "+------------------------+\n",
            "|                  199297|\n",
            "+------------------------+\n",
            "\n",
            "+---------------------+\n",
            "|count(DISTINCT Route)|\n",
            "+---------------------+\n",
            "|                 1766|\n",
            "+---------------------+\n",
            "\n",
            "+----------------------+\n",
            "|count(DISTINCT Agency)|\n",
            "+----------------------+\n",
            "|                    20|\n",
            "+----------------------+\n",
            "\n",
            "+------------------------------+\n",
            "|count(DISTINCT Violation_code)|\n",
            "+------------------------------+\n",
            "|                           165|\n",
            "+------------------------------+\n",
            "\n",
            "+-------------------------------------+\n",
            "|count(DISTINCT Violation_Description)|\n",
            "+-------------------------------------+\n",
            "|                                  206|\n",
            "+-------------------------------------+\n",
            "\n",
            "+---------------------------+\n",
            "|count(DISTINCT Fine_amount)|\n",
            "+---------------------------+\n",
            "|                         32|\n",
            "+---------------------------+\n",
            "\n",
            "+------------------------+\n",
            "|count(DISTINCT Latitude)|\n",
            "+------------------------+\n",
            "|                  137035|\n",
            "+------------------------+\n",
            "\n",
            "+-------------------------+\n",
            "|count(DISTINCT Longitude)|\n",
            "+-------------------------+\n",
            "|                   141935|\n",
            "+-------------------------+\n",
            "\n",
            "+----------------------------------+\n",
            "|count(DISTINCT Distance_to_pointA)|\n",
            "+----------------------------------+\n",
            "|                            164243|\n",
            "+----------------------------------+\n",
            "\n",
            "+-------------------------+\n",
            "|count(DISTINCT address_0)|\n",
            "+-------------------------+\n",
            "|                    16183|\n",
            "+-------------------------+\n",
            "\n",
            "+-------------------------+\n",
            "|count(DISTINCT address_1)|\n",
            "+-------------------------+\n",
            "|                     3898|\n",
            "+-------------------------+\n",
            "\n",
            "+-------------------------+\n",
            "|count(DISTINCT address_2)|\n",
            "+-------------------------+\n",
            "|                     1567|\n",
            "+-------------------------+\n",
            "\n",
            "+-------------------------+\n",
            "|count(DISTINCT address_3)|\n",
            "+-------------------------+\n",
            "|                      574|\n",
            "+-------------------------+\n",
            "\n",
            "+-------------------------+\n",
            "|count(DISTINCT address_4)|\n",
            "+-------------------------+\n",
            "|                      175|\n",
            "+-------------------------+\n",
            "\n",
            "+-------------------------+\n",
            "|count(DISTINCT address_5)|\n",
            "+-------------------------+\n",
            "|                       29|\n",
            "+-------------------------+\n",
            "\n",
            "+-------------------------+\n",
            "|count(DISTINCT address_6)|\n",
            "+-------------------------+\n",
            "|                       11|\n",
            "+-------------------------+\n",
            "\n",
            "+-------------------------+\n",
            "|count(DISTINCT address_7)|\n",
            "+-------------------------+\n",
            "|                        1|\n",
            "+-------------------------+\n",
            "\n",
            "+---------------------------------+\n",
            "|count(DISTINCT __index_level_0__)|\n",
            "+---------------------------------+\n",
            "|                           748312|\n",
            "+---------------------------------+\n",
            "\n",
            "+--------------------------+\n",
            "|count(DISTINCT Issue_year)|\n",
            "+--------------------------+\n",
            "|                         7|\n",
            "+--------------------------+\n",
            "\n"
          ]
        }
      ]
    },
    {
      "cell_type": "markdown",
      "source": [
        "##### 3. Count number of null in every column. Feel free to change the data types if needed."
      ],
      "metadata": {
        "id": "atGIzZCXf5nW"
      }
    },
    {
      "cell_type": "code",
      "source": [
        "# checking data types\n",
        "Parquet_DF.dtypes"
      ],
      "metadata": {
        "colab": {
          "base_uri": "https://localhost:8080/"
        },
        "id": "mBxPwozWRFkm",
        "outputId": "99db3a57-11cd-4560-ce7d-7cdae663f7fd"
      },
      "execution_count": 9,
      "outputs": [
        {
          "output_type": "execute_result",
          "data": {
            "text/plain": [
              "[('Ticket_number', 'string'),\n",
              " ('Issue_Date', 'timestamp'),\n",
              " ('Issue_time', 'double'),\n",
              " ('Meter_Id', 'string'),\n",
              " ('RP_State_Plate', 'string'),\n",
              " ('Plate_Expiry_Date', 'double'),\n",
              " ('Make', 'string'),\n",
              " ('Body_Style', 'string'),\n",
              " ('Color', 'string'),\n",
              " ('Location', 'string'),\n",
              " ('Route', 'string'),\n",
              " ('Agency', 'double'),\n",
              " ('Violation_code', 'string'),\n",
              " ('Violation_Description', 'string'),\n",
              " ('Fine_amount', 'double'),\n",
              " ('Latitude', 'double'),\n",
              " ('Longitude', 'double'),\n",
              " ('Distance_to_pointA', 'double'),\n",
              " ('address_0', 'string'),\n",
              " ('address_1', 'string'),\n",
              " ('address_2', 'string'),\n",
              " ('address_3', 'string'),\n",
              " ('address_4', 'string'),\n",
              " ('address_5', 'string'),\n",
              " ('address_6', 'string'),\n",
              " ('address_7', 'string'),\n",
              " ('__index_level_0__', 'bigint'),\n",
              " ('Issue_year', 'int')]"
            ]
          },
          "metadata": {},
          "execution_count": 9
        }
      ]
    },
    {
      "cell_type": "code",
      "source": [
        "# convert time stamp to double\n",
        "\n",
        "from pyspark.sql.types import DoubleType\n",
        "Parquet_DF = Parquet_DF.withColumn('Issue_Date', col('Issue_Date').cast('Double'))\n"
      ],
      "metadata": {
        "id": "HrtcRGoNRynd"
      },
      "execution_count": 10,
      "outputs": []
    },
    {
      "cell_type": "code",
      "source": [
        "# show count of null values for each column in df\n",
        "\n",
        "Parquet_DF.select([count(when(col(c).isNull(), c)).alias(c) for c in Parquet_DF.columns]).show()\n"
      ],
      "metadata": {
        "colab": {
          "base_uri": "https://localhost:8080/"
        },
        "id": "PicHSLywSAjV",
        "outputId": "feb3f705-9211-48a8-85b9-c70115d91cf2"
      },
      "execution_count": 11,
      "outputs": [
        {
          "output_type": "stream",
          "name": "stdout",
          "text": [
            "+-------------+----------+----------+--------+--------------+-----------------+----+----------+-----+--------+-----+------+--------------+---------------------+-----------+--------+---------+------------------+---------+---------+---------+---------+---------+---------+---------+---------+-----------------+----------+\n",
            "|Ticket_number|Issue_Date|Issue_time|Meter_Id|RP_State_Plate|Plate_Expiry_Date|Make|Body_Style|Color|Location|Route|Agency|Violation_code|Violation_Description|Fine_amount|Latitude|Longitude|Distance_to_pointA|address_0|address_1|address_2|address_3|address_4|address_5|address_6|address_7|__index_level_0__|Issue_year|\n",
            "+-------------+----------+----------+--------+--------------+-----------------+----+----------+-----+--------+-----+------+--------------+---------------------+-----------+--------+---------+------------------+---------+---------+---------+---------+---------+---------+---------+---------+-----------------+----------+\n",
            "|            0|         0|       136|  500421|             0|            66385| 506|       448|  233|       0| 3626|     0|             0|                   30|          0|       0|        0|                 0|        0|       25|     2350|   398193|   710647|   744737|   748198|   748311|                0|         0|\n",
            "+-------------+----------+----------+--------+--------------+-----------------+----+----------+-----+--------+-----+------+--------------+---------------------+-----------+--------+---------+------------------+---------+---------+---------+---------+---------+---------+---------+---------+-----------------+----------+\n",
            "\n"
          ]
        }
      ]
    },
    {
      "cell_type": "code",
      "source": [
        "# check df shape\n",
        "\n",
        "print((Parquet_DF.count(), len(Parquet_DF.columns)))"
      ],
      "metadata": {
        "colab": {
          "base_uri": "https://localhost:8080/"
        },
        "id": "wpZDtQVCk58h",
        "outputId": "b7d2d305-02fd-49fc-f55e-c4b0dc326024"
      },
      "execution_count": 12,
      "outputs": [
        {
          "output_type": "stream",
          "name": "stdout",
          "text": [
            "(748312, 28)\n"
          ]
        }
      ]
    },
    {
      "cell_type": "markdown",
      "source": [
        "##### 4. Write a function to drop columns with more than 1% missing values"
      ],
      "metadata": {
        "id": "EgGfc81xfyPT"
      }
    },
    {
      "cell_type": "code",
      "source": [
        "percent = 0.01\n",
        "def drop_null_columns(df, percent):\n",
        "  null_counts = df.select([count(when(col(c).isNull(), c)).alias(c) for c in df.columns]).collect()[0].asDict()\n",
        "  dropped_columns = [k for k, v in null_counts.items() if v > percent]\n",
        "  df = df.drop(*dropped_columns)\n",
        "  return df, dropped_columns\n",
        "\n",
        "Parquet_DF, dropped_columns = drop_null_columns(Parquet_DF, percent)"
      ],
      "metadata": {
        "id": "2TVHCnblfRlv"
      },
      "execution_count": 13,
      "outputs": []
    },
    {
      "cell_type": "code",
      "source": [
        "dropped_columns"
      ],
      "metadata": {
        "colab": {
          "base_uri": "https://localhost:8080/"
        },
        "id": "eR6cZR8TRMjt",
        "outputId": "450e8d18-4469-4383-f170-f35036afd9ac"
      },
      "execution_count": 14,
      "outputs": [
        {
          "output_type": "execute_result",
          "data": {
            "text/plain": [
              "['Issue_time',\n",
              " 'Meter_Id',\n",
              " 'Plate_Expiry_Date',\n",
              " 'Make',\n",
              " 'Body_Style',\n",
              " 'Color',\n",
              " 'Route',\n",
              " 'Violation_Description',\n",
              " 'address_1',\n",
              " 'address_2',\n",
              " 'address_3',\n",
              " 'address_4',\n",
              " 'address_5',\n",
              " 'address_6',\n",
              " 'address_7']"
            ]
          },
          "metadata": {},
          "execution_count": 14
        }
      ]
    },
    {
      "cell_type": "code",
      "source": [
        "# check df shape\n",
        "print((Parquet_DF.count(), len(Parquet_DF.columns)))"
      ],
      "metadata": {
        "colab": {
          "base_uri": "https://localhost:8080/"
        },
        "id": "Ocf1BC7QfzQ9",
        "outputId": "90e094fb-40b5-4d89-e6f6-384975af41ca"
      },
      "execution_count": 15,
      "outputs": [
        {
          "output_type": "stream",
          "name": "stdout",
          "text": [
            "(748312, 13)\n"
          ]
        }
      ]
    },
    {
      "cell_type": "markdown",
      "source": [
        "##### 5. Impute missing values for \"Fine_amount\" column with \"median\" using \"Imputer\" package from Pyspark"
      ],
      "metadata": {
        "id": "mz0xMPYOlEeA"
      }
    },
    {
      "cell_type": "code",
      "source": [
        "# Check missing values in fine_amount column\n",
        "\n",
        "Parquet_DF.select([count(when(isnan('Fine_amount'),True))]).show()"
      ],
      "metadata": {
        "colab": {
          "base_uri": "https://localhost:8080/"
        },
        "id": "AFkRMCToRw4c",
        "outputId": "ff48662a-70d2-4a66-93f4-0942f2ff4de7"
      },
      "execution_count": 16,
      "outputs": [
        {
          "output_type": "stream",
          "name": "stdout",
          "text": [
            "+-------------------------------------------------+\n",
            "|count(CASE WHEN isnan(Fine_amount) THEN true END)|\n",
            "+-------------------------------------------------+\n",
            "|                                                0|\n",
            "+-------------------------------------------------+\n",
            "\n"
          ]
        }
      ]
    },
    {
      "cell_type": "code",
      "source": [
        "# no missing values - no need to impute"
      ],
      "metadata": {
        "id": "UMnBLafck-RH"
      },
      "execution_count": 17,
      "outputs": []
    },
    {
      "cell_type": "markdown",
      "source": [
        "##### 6.  Drop \"rows\" with at least two null values"
      ],
      "metadata": {
        "id": "ig215njgruzc"
      }
    },
    {
      "cell_type": "code",
      "source": [
        "# drop rows with at least 2 NA values \n",
        "Parquet_DF = Parquet_DF.na.drop(thresh=2)"
      ],
      "metadata": {
        "id": "hzZgrEjS63Xa"
      },
      "execution_count": 18,
      "outputs": []
    },
    {
      "cell_type": "code",
      "source": [
        "# no change in df shape(?)\n",
        "print((Parquet_DF.count(), len(Parquet_DF.columns)))"
      ],
      "metadata": {
        "colab": {
          "base_uri": "https://localhost:8080/"
        },
        "id": "xhKEH7on5D9I",
        "outputId": "4ce91cca-a7a9-493c-eee1-a2500d44250e"
      },
      "execution_count": 19,
      "outputs": [
        {
          "output_type": "stream",
          "name": "stdout",
          "text": [
            "(748312, 13)\n"
          ]
        }
      ]
    },
    {
      "cell_type": "markdown",
      "source": [
        "##### 7. Extract day and month from Issue_Date column and then drop the \"Issue_Date\", and \"__index_level_0__\" column (if exist)"
      ],
      "metadata": {
        "id": "uBaj8D08PNTS"
      }
    },
    {
      "cell_type": "code",
      "source": [
        "# Check issue_date column type\n",
        "dict(Parquet_DF.dtypes)['Issue_Date']"
      ],
      "metadata": {
        "colab": {
          "base_uri": "https://localhost:8080/",
          "height": 35
        },
        "id": "PFVgY4ZgbbPS",
        "outputId": "b8c2c2d7-8d61-4b57-f440-53be351277b6"
      },
      "execution_count": 20,
      "outputs": [
        {
          "output_type": "execute_result",
          "data": {
            "application/vnd.google.colaboratory.intrinsic+json": {
              "type": "string"
            },
            "text/plain": [
              "'double'"
            ]
          },
          "metadata": {},
          "execution_count": 20
        }
      ]
    },
    {
      "cell_type": "code",
      "source": [
        "# Inspect issue_date column\n",
        "Parquet_DF.select('Issue_Date').show()"
      ],
      "metadata": {
        "colab": {
          "base_uri": "https://localhost:8080/"
        },
        "id": "ARb2RugYCi6u",
        "outputId": "7678be3d-3572-47c8-9603-96efc0f2ecf7"
      },
      "execution_count": 21,
      "outputs": [
        {
          "output_type": "stream",
          "name": "stdout",
          "text": [
            "+-----------+\n",
            "| Issue_Date|\n",
            "+-----------+\n",
            "|1.4518656E9|\n",
            "| 1.452384E9|\n",
            "|1.4522976E9|\n",
            "|1.4516064E9|\n",
            "|1.4516064E9|\n",
            "|1.4516064E9|\n",
            "|1.4516064E9|\n",
            "|1.4516064E9|\n",
            "|1.4516064E9|\n",
            "|1.4516064E9|\n",
            "|1.4516064E9|\n",
            "|1.4516064E9|\n",
            "|1.4516064E9|\n",
            "|1.4516064E9|\n",
            "|1.4516064E9|\n",
            "|1.4516064E9|\n",
            "|1.4516064E9|\n",
            "|1.4516064E9|\n",
            "|1.4516064E9|\n",
            "|1.4516064E9|\n",
            "+-----------+\n",
            "only showing top 20 rows\n",
            "\n"
          ]
        }
      ]
    },
    {
      "cell_type": "code",
      "source": [
        "# convert to timestamp type column\n",
        "\n",
        "Parquet_DF = Parquet_DF.withColumn(\"Issue_Date\", col(\"Issue_Date\").cast(\"timestamp\"))"
      ],
      "metadata": {
        "id": "Pzp6MVN7-DEr"
      },
      "execution_count": 22,
      "outputs": []
    },
    {
      "cell_type": "code",
      "source": [
        "# confirm conversion\n",
        "\n",
        "dict(Parquet_DF.dtypes)['Issue_Date']"
      ],
      "metadata": {
        "colab": {
          "base_uri": "https://localhost:8080/",
          "height": 35
        },
        "id": "obt5naz6Iz1r",
        "outputId": "5f59a03e-dc71-42e1-c879-a542e248b4e3"
      },
      "execution_count": 23,
      "outputs": [
        {
          "output_type": "execute_result",
          "data": {
            "application/vnd.google.colaboratory.intrinsic+json": {
              "type": "string"
            },
            "text/plain": [
              "'timestamp'"
            ]
          },
          "metadata": {},
          "execution_count": 23
        }
      ]
    },
    {
      "cell_type": "code",
      "source": [
        "# Create Month Column\n",
        "Parquet_DF = Parquet_DF.withColumn('Month',month(Parquet_DF.Issue_Date))\n"
      ],
      "metadata": {
        "id": "PFYBgiCWDkX-"
      },
      "execution_count": 24,
      "outputs": []
    },
    {
      "cell_type": "code",
      "source": [
        "# Create Day Column\n",
        "Parquet_DF = Parquet_DF.withColumn('Day', dayofmonth(Parquet_DF.Issue_Date))"
      ],
      "metadata": {
        "id": "eQmfDxSFDyiX"
      },
      "execution_count": 25,
      "outputs": []
    },
    {
      "cell_type": "code",
      "source": [
        "# check for issue_date and index_level_0 columns\n",
        "Parquet_DF.columns"
      ],
      "metadata": {
        "colab": {
          "base_uri": "https://localhost:8080/"
        },
        "id": "rF2qgeCfsZ0v",
        "outputId": "6a770485-3bfe-432f-db34-1f70c60a8d62"
      },
      "execution_count": 26,
      "outputs": [
        {
          "output_type": "execute_result",
          "data": {
            "text/plain": [
              "['Ticket_number',\n",
              " 'Issue_Date',\n",
              " 'RP_State_Plate',\n",
              " 'Location',\n",
              " 'Agency',\n",
              " 'Violation_code',\n",
              " 'Fine_amount',\n",
              " 'Latitude',\n",
              " 'Longitude',\n",
              " 'Distance_to_pointA',\n",
              " 'address_0',\n",
              " '__index_level_0__',\n",
              " 'Issue_year',\n",
              " 'Month',\n",
              " 'Day']"
            ]
          },
          "metadata": {},
          "execution_count": 26
        }
      ]
    },
    {
      "cell_type": "code",
      "source": [
        "# Drop Issue Date and Index_level_0 columns\n",
        "\n",
        "Parquet_DF = Parquet_DF.drop(\"Issue_Date\",\"__index_level_0__\")"
      ],
      "metadata": {
        "id": "0T8mSuajq_ev"
      },
      "execution_count": 27,
      "outputs": []
    },
    {
      "cell_type": "code",
      "source": [
        "# confirm columns have been dropped\n",
        "Parquet_DF.columns"
      ],
      "metadata": {
        "colab": {
          "base_uri": "https://localhost:8080/"
        },
        "id": "uKcPzEret2ju",
        "outputId": "925365ac-ff84-4b57-9504-c24b4d7b2a84"
      },
      "execution_count": 28,
      "outputs": [
        {
          "output_type": "execute_result",
          "data": {
            "text/plain": [
              "['Ticket_number',\n",
              " 'RP_State_Plate',\n",
              " 'Location',\n",
              " 'Agency',\n",
              " 'Violation_code',\n",
              " 'Fine_amount',\n",
              " 'Latitude',\n",
              " 'Longitude',\n",
              " 'Distance_to_pointA',\n",
              " 'address_0',\n",
              " 'Issue_year',\n",
              " 'Month',\n",
              " 'Day']"
            ]
          },
          "metadata": {},
          "execution_count": 28
        }
      ]
    },
    {
      "cell_type": "markdown",
      "source": [
        "### Read the questions below and Export three reports based on them:"
      ],
      "metadata": {
        "id": "_IAeklywvxRJ"
      }
    },
    {
      "cell_type": "markdown",
      "source": [
        "##### 9. First Report:\n",
        "Create a report table to get the Sum of \"Fine_Amouns\" for each State Plates (\"RP_State_Plate\" column) for each selected vehicle make company (\"Make\" column). \n",
        "The selected brands are: \n",
        "\n",
        "Make_Cars = [\"ACUR\", \"AUDI\", \"DODG\", \"BMW\", \"BUIC\", \"CHEV\", \"CHRY\", \"NISS\"\n",
        "             ,\"FIAT\", \"FORD\", \"GMC\", \"JEEP\", \"KIA\", \"VOLV\", \"TOYT\", \"SUBA\", \"MAZD\"]\n",
        "\n",
        "The final report should look like below:\n",
        "\n",
        "![report_table.PNG](attachment:report_table.PNG)"
      ],
      "metadata": {
        "id": "EllM9vViv1ss"
      }
    },
    {
      "cell_type": "code",
      "source": [
        "Make_Cars = [\"ACUR\", \"AUDI\", \"DODG\", \"BMW\", \"BUIC\", \"CHEV\", \"CHRY\", \"NISS\"\n",
        "             ,\"FIAT\", \"FORD\", \"GMC\", \"JEEP\", \"KIA\", \"VOLV\", \"TOYT\", \"SUBA\", \"MAZD\"]"
      ],
      "metadata": {
        "id": "BcVripTwwzCX"
      },
      "execution_count": 29,
      "outputs": []
    },
    {
      "cell_type": "code",
      "source": [
        "# create new dataframe for report \n",
        "\n",
        "report1_df = spark.read.parquet(\"/content/drive/MyDrive/df_pandas.parquet.gzip\")"
      ],
      "metadata": {
        "id": "T_oQpV6-4V3c"
      },
      "execution_count": 30,
      "outputs": []
    },
    {
      "cell_type": "code",
      "source": [
        "#groupby state plates and pivot on the make of the car\n",
        "\n",
        "report1_df = report1_df.groupBy('RP_State_Plate').pivot('Make', Make_Cars).sum('Fine_amount')"
      ],
      "metadata": {
        "id": "XC12q4bz1JGG"
      },
      "execution_count": 31,
      "outputs": []
    },
    {
      "cell_type": "code",
      "source": [
        "report1_df.show()"
      ],
      "metadata": {
        "colab": {
          "base_uri": "https://localhost:8080/"
        },
        "id": "XLO5tQlQGhOl",
        "outputId": "5c752631-0127-48e6-b37f-a8b3340686f2"
      },
      "execution_count": 32,
      "outputs": [
        {
          "output_type": "stream",
          "name": "stdout",
          "text": [
            "+--------------+--------+--------+------------------+---------+---------+------------------+--------+----------+--------+------------------+-----------------+---------+---------+------------------+----------+--------+--------+\n",
            "|RP_State_Plate|    ACUR|    AUDI|              DODG|      BMW|     BUIC|              CHEV|    CHRY|      NISS|    FIAT|              FORD|              GMC|     JEEP|      KIA|              VOLV|      TOYT|    SUBA|    MAZD|\n",
            "+--------------+--------+--------+------------------+---------+---------+------------------+--------+----------+--------+------------------+-----------------+---------+---------+------------------+----------+--------+--------+\n",
            "|            AZ|  2861.0|  6198.0|           19550.0|  11594.0|   2927.0|           34152.0| 11771.0|   45855.0|  2155.0|          81257.68|         43955.67|  16560.0|  15309.0|           13916.0|   52397.0|  4341.0|  7235.0|\n",
            "|            SC|   370.0|    63.0|             632.0|   1629.0|    257.0|            1506.0|    68.0|    1465.0|   126.0|            1136.0|            146.0|    466.0|    763.0|             194.0|    4001.0|   209.0|   471.0|\n",
            "|            LA|  1267.0|   277.0|            1742.0|   1702.0|    186.0|            3806.0|   854.0|    2759.0|    63.0|            3222.0|            682.0|   1483.0|    360.0|             765.0|    4011.0|   375.0|  1057.0|\n",
            "|            MN|   680.0|   841.0|            2432.0|   1556.0|   1279.0|            4636.0|  2276.0|    1608.0|    null|            6263.0|            272.0|   1594.0|    695.0|             755.0|    6587.0|   962.0|  1730.0|\n",
            "|            NJ|  1707.0|  2349.0|            1093.0|   4643.0|    471.0|            2603.0|   758.0|    6004.0|   209.0|            5579.0|            229.0|   5002.0|   2379.0|            1606.0|    8331.0|  2235.0|  2623.0|\n",
            "|            OR|  1639.0|  2419.0|            7357.0|   5628.0|    637.0|            8824.0|  3430.0|    7328.0|   231.0|           19168.0|           1056.0|   5520.0|   4299.0|            3210.0|   17871.0|  6283.0|  4352.0|\n",
            "|            VA|  1141.0|   949.0|            1677.0|   1939.0|    224.0|            3668.0|  1113.0|    3492.0|   194.0|            4683.0|             73.0|   2024.0|   1430.0|             783.0|    8925.0|   584.0|  2651.0|\n",
            "|            RI|    null|    68.0|             282.0|    257.0|     63.0|             161.0|   146.0|     526.0|    null|             365.0|             null|    486.0|    214.0|              null|     821.0|   476.0|   297.0|\n",
            "|            KY|    68.0|   630.0|             388.0|    229.0|     null|            1319.0|   126.0|     700.0|    null|            1287.0|             null|    383.0|    476.0|             136.0|    1924.0|   350.0|   569.0|\n",
            "|            WY|    null|    null|             627.0|     68.0|     null|             680.0|   179.0|     350.0|    null|            1050.0|            277.0|    267.0|    189.0|             126.0|    1700.0|   393.0|   131.0|\n",
            "|            NH|   121.0|   456.0|             239.0|     68.0|     73.0|             428.0|   131.0|     785.0|    null|             589.0|             null|    350.0|    184.0|             184.0|     818.0|    73.0|    63.0|\n",
            "|            MI|  1782.0|  1541.0|            4965.0|   2212.0|   1251.0|           10275.0|  3216.0|     863.0|   282.0|           12307.0|           1551.0|   6834.0|   1609.0|             782.0|    5390.0|   549.0|  1488.0|\n",
            "|            NV|  1554.0|  2554.0|           17776.0|   8890.0|   1650.0|           31208.0| 11734.0|   36885.0|  2116.0|           37330.0|           2281.0|  12765.0|  14460.0|            1879.0|   43677.0|  2027.0|  4668.0|\n",
            "|            WI|   569.0|   642.0|            1405.0|   1078.0|    481.0|            4250.0|   803.0|    1973.0|   136.0|            2689.0|            304.0|   1176.0|    808.0|             548.0|    5712.0|   821.0|   766.0|\n",
            "|            ID|   146.0|   345.0|            2570.0|     73.0|     73.0|            3429.0|   501.0|    1712.0|    63.0|            3835.0|            385.0|   1156.0|    506.0|             179.0|    2626.0|  1141.0|  1040.0|\n",
            "|            CA|591305.5|966511.0|1340672.3399999999|2236930.0|218058.33|3126615.6799999997|682600.0|3313531.34|189119.0|4117000.6799999997|738209.6699999999|1003609.0|1037449.0|470187.33999999997|8299359.67|434557.0|830672.0|\n",
            "|            NE|    63.0|    63.0|            1070.0|    136.0|    146.0|            1191.0|  1214.0|      68.0|    null|            2732.0|             68.0|   1647.0|    302.0|              null|     851.0|   239.0|   156.0|\n",
            "|            CT|  1268.0|  2284.0|             380.0|   1133.0|    302.0|            1722.0|   325.0|    2855.0|    73.0|            2252.0|            365.0|   1855.0|   1027.0|             793.0|    3584.0|  2647.0|  1097.0|\n",
            "|            MT|    null|   622.0|            1274.0|    267.0|    229.0|            1626.0|   146.0|    1100.0|    null|            2224.0|            751.0|    947.0|    166.0|             523.0|    2695.0|  1664.0|   345.0|\n",
            "|            NC|   778.0|   282.0|            2660.0|   1597.0|     63.0|            4143.0|   571.0|    2084.0|   136.0|            4870.0|            267.0|   1609.0|   2405.0|            1261.0|    6293.0|   355.0|  2011.0|\n",
            "+--------------+--------+--------+------------------+---------+---------+------------------+--------+----------+--------+------------------+-----------------+---------+---------+------------------+----------+--------+--------+\n",
            "only showing top 20 rows\n",
            "\n"
          ]
        }
      ]
    },
    {
      "cell_type": "code",
      "source": [
        "# export the report a CSV with header and \"|\" deliminer. Name it as Report_Make_State_Fine.\n",
        "\n",
        "report1_df.coalesce(1).write.option(\"delimiter\",\"|\").option(\"header\",True).csv(\"/content/drive/MyDrive/Colab Notebooks/JesusBaquiax_DE2/Report_Make_State_Fine\")"
      ],
      "metadata": {
        "id": "feBWWJKYw5M9"
      },
      "execution_count": 33,
      "outputs": []
    },
    {
      "cell_type": "markdown",
      "source": [
        "##### 10. Second Report:\n",
        "Filter the dataframe where Make = HOND and get a count of total violation descriptions per category in 2016"
      ],
      "metadata": {
        "id": "Wb6sXuCrQ-pI"
      }
    },
    {
      "cell_type": "code",
      "source": [
        "report2_df = spark.read.parquet(\"/content/drive/MyDrive/df_pandas.parquet.gzip\")"
      ],
      "metadata": {
        "id": "zOEG_XnkRBTi"
      },
      "execution_count": 34,
      "outputs": []
    },
    {
      "cell_type": "code",
      "source": [
        "report2_filtered = report2_df.filter( (report2_df.Make  == \"HOND\") & (report2_df.Issue_year  == 2016)) "
      ],
      "metadata": {
        "id": "BV87SxqaRuw8"
      },
      "execution_count": 35,
      "outputs": []
    },
    {
      "cell_type": "code",
      "source": [
        "(report2_filtered.groupby('Violation_Description').count()\n",
        "        .orderBy('count', ascending=False).show())"
      ],
      "metadata": {
        "colab": {
          "base_uri": "https://localhost:8080/"
        },
        "id": "itdVrhGLRuz3",
        "outputId": "f784a02b-9fe0-4e2e-d53f-ac38b29635f9"
      },
      "execution_count": 36,
      "outputs": [
        {
          "output_type": "stream",
          "name": "stdout",
          "text": [
            "+---------------------+-----+\n",
            "|Violation_Description|count|\n",
            "+---------------------+-----+\n",
            "| NO PARK/STREET CLEAN|19875|\n",
            "|           METER EXP.|15332|\n",
            "| PREFERENTIAL PARKING| 5511|\n",
            "|      DISPLAY OF TABS| 3480|\n",
            "|             RED ZONE| 3415|\n",
            "| PARKED OVER TIME LIM| 3373|\n",
            "|           NO PARKING| 3259|\n",
            "|           WHITE ZONE| 2258|\n",
            "|     NO STOP/STANDING| 1445|\n",
            "|    DISPLAY OF PLATES| 1302|\n",
            "|    BLOCKING DRIVEWAY|  842|\n",
            "|  STOP/STAND PROHIBIT|  830|\n",
            "|     STANDNG IN ALLEY|  827|\n",
            "|        NO STOP/STAND|  804|\n",
            "| NO STOPPING/ANTI-GRI|  772|\n",
            "|          YELLOW ZONE|  688|\n",
            "|  OUTSIDE LINES/METER|  638|\n",
            "|         FIRE HYDRANT|  595|\n",
            "| OFF STR/OVERTIME/MTR|  492|\n",
            "|   PARKED ON SIDEWALK|  421|\n",
            "+---------------------+-----+\n",
            "only showing top 20 rows\n",
            "\n"
          ]
        }
      ]
    },
    {
      "cell_type": "code",
      "source": [
        "report2_filtered.coalesce(1).write.option(\"delimiter\",\"|\").option(\"header\",True).csv(\"/content/drive/MyDrive/Colab Notebooks/JesusBaquiax_DE2/Report_HOND_2016\")"
      ],
      "metadata": {
        "id": "_oZRJTAjWEYn"
      },
      "execution_count": 37,
      "outputs": []
    },
    {
      "cell_type": "markdown",
      "source": [
        "##### 11. Third Report:\n",
        "Create a new dataframe from the original dataset, drop everything before 2016 date, and only use the below columns:\n",
        "\n",
        "keep_columns=['Ticket_number', 'RP_State_Plate', 'Make', 'Body_Style', 'Fine_amount']"
      ],
      "metadata": {
        "id": "r3-B7tpIRFA_"
      }
    },
    {
      "cell_type": "code",
      "source": [
        "report3_df = spark.read.parquet(\"/content/drive/MyDrive/df_pandas.parquet.gzip\")"
      ],
      "metadata": {
        "id": "uFjormk0RFe6"
      },
      "execution_count": 38,
      "outputs": []
    },
    {
      "cell_type": "code",
      "source": [
        "# filter by Issue_Yea column\n",
        "\n",
        "report3_filtered = report3_df.filter(report3_df.Issue_year < 2016)"
      ],
      "metadata": {
        "id": "CjtqSnhDWpf9"
      },
      "execution_count": 39,
      "outputs": []
    },
    {
      "cell_type": "code",
      "source": [
        "# keep specific columns\n",
        "\n",
        "report3_filtered = report3_filtered.select(col('Ticket_number'), col('RP_State_PLate'), col('Make'), col('Body_Style'), col('Fine_amount'))"
      ],
      "metadata": {
        "id": "YtccxB0cW112"
      },
      "execution_count": 40,
      "outputs": []
    },
    {
      "cell_type": "code",
      "source": [
        "report3_filtered.coalesce(1).write.option(\"delimiter\",\"|\").option(\"header\",True).csv(\"/content/drive/MyDrive/Colab Notebooks/JesusBaquiax_DE2/Report_Parking_Fines_2016\")"
      ],
      "metadata": {
        "id": "3tOazEGIW3ol"
      },
      "execution_count": 41,
      "outputs": []
    }
  ]
}