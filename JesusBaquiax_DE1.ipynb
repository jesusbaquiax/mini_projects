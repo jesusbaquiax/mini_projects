{
 "cells": [
  {
   "cell_type": "markdown",
   "id": "093c0d03",
   "metadata": {},
   "source": [
    "#### Data Engineering Exercise 1: Pandas \n",
    "The Parking Citation Dataset is a puplic dataset collecting millions of records information about parking tickets for a county in California. We only selected a million of this data for us to work with in this assignment. You can see the whole dataset here: https://data.lacity.org/Transportation/Parking-Citations/wjz9-h9np/data\n",
    "\n",
    "In this exercise we want you to Extract data, Transform and/or clean data, and then Save it as a new file. Steps are:\n",
    "\n",
    "    1. Extract CSV and Json file and append these files into a Pandas DataFrame.\n",
    "    2. Remove the spaces from column headers\n",
    "    3. Change data types\n",
    "    4. Check if a column has any digits in its values\n",
    "    5. Write a function to check if a column only has \"Alphabet\" values\n",
    "    6. Write a function to check if a column only has \"Numberic\" values\n",
    "    7. Add a column \"Distance_to_pointA\", calculating the distance between each point and point A\n",
    "    8. Handle duplicates\n",
    "    9. Drop columns with 70% missing values\n",
    "    10. Remove a few records based on a condition \n",
    "    11. Fill missing values for a column\n",
    "    12. Split a column into severl coulmns \n",
    "    13. Extract the \"Issue_year\" of  \"Issue_Date\" column and save it as a new column \"Issue_year\" as an integer type.\n",
    "    14. Save the final modified dataframe into a partitioned parquet file! If you are not able to save it as a parquet file, go ahead and save it as a csv file. \n",
    "\n",
    "\n",
    "Here are some resources that you may need: \n",
    "\n",
    "    Pandas =  https://pandas.pydata.org/docs/reference/general_functions.html\n",
    "    Numpy = https://numpy.org/doc/stable/reference/index.html\n",
    "\n",
    "\n",
    "Good luck! \n"
   ]
  },
  {
   "cell_type": "markdown",
   "id": "065b83d6",
   "metadata": {},
   "source": [
    "##### IMPORTS"
   ]
  },
  {
   "cell_type": "code",
   "execution_count": 3,
   "id": "f781f2de",
   "metadata": {},
   "outputs": [],
   "source": [
    "import pandas as pd\n",
    "import numpy as np"
   ]
  },
  {
   "cell_type": "markdown",
   "id": "cf01fe27",
   "metadata": {},
   "source": [
    "##### 1. Complete the below function to Extract CSV and Json file and Append these file to a Pandas DataFrame:\n",
    "- csv file: parking_citation_sample.csv\n",
    "- Json file: parking_citation_add.json"
   ]
  },
  {
   "cell_type": "code",
   "execution_count": 4,
   "id": "1f8776fa",
   "metadata": {},
   "outputs": [
    {
     "name": "stdout",
     "output_type": "stream",
     "text": [
      "Shape of Data: (1000003, 22)\n"
     ]
    }
   ],
   "source": [
    "def extract_data():\n",
    "    df_pandas = pd.DataFrame(\n",
    "        columns=['Ticket number', 'Issue Date', 'Issue time', 'Meter Id', 'Marked Time',\n",
    "       'RP State Plate', 'Plate Expiry Date', 'VIN', 'Make', 'Body Style',\n",
    "       'Color', 'Location', 'Route', 'Agency', 'Violation code',\n",
    "       'Violation Description', 'Fine amount', 'Latitude', 'Longitude',\n",
    "       'Agency Description', 'Color Description', 'Body Style Description'])\n",
    "    \n",
    "    # read csv, drop the first column, and append it to pandas dataframe\n",
    "    df_csv = pd.read_csv('parking_citation_sample.csv', header=0, low_memory=False)\n",
    "    df_csv = df_csv.iloc[: , 1:]\n",
    "    df_pandas = df_pandas.append(df_csv)\n",
    "    \n",
    "    # read and append json\n",
    "    df_json = pd.read_json('parking_citation_add.json')\n",
    "    df_json = df_json.iloc[: , 1:]\n",
    "    df_pandas = df_pandas.append(df_json)\n",
    "    \n",
    "    df_pandas = df_pandas.replace('', np.nan)\n",
    "        \n",
    "    return df_pandas\n",
    "\n",
    "df_pandas = extract_data()\n",
    "print('Shape of Data: '+ str(df_pandas.shape))"
   ]
  },
  {
   "cell_type": "code",
   "execution_count": 5,
   "id": "eaf371e8",
   "metadata": {},
   "outputs": [
    {
     "data": {
      "text/html": [
       "<div>\n",
       "<style scoped>\n",
       "    .dataframe tbody tr th:only-of-type {\n",
       "        vertical-align: middle;\n",
       "    }\n",
       "\n",
       "    .dataframe tbody tr th {\n",
       "        vertical-align: top;\n",
       "    }\n",
       "\n",
       "    .dataframe thead th {\n",
       "        text-align: right;\n",
       "    }\n",
       "</style>\n",
       "<table border=\"1\" class=\"dataframe\">\n",
       "  <thead>\n",
       "    <tr style=\"text-align: right;\">\n",
       "      <th></th>\n",
       "      <th>Ticket number</th>\n",
       "      <th>Issue Date</th>\n",
       "      <th>Issue time</th>\n",
       "      <th>Meter Id</th>\n",
       "      <th>Marked Time</th>\n",
       "      <th>RP State Plate</th>\n",
       "      <th>Plate Expiry Date</th>\n",
       "      <th>VIN</th>\n",
       "      <th>Make</th>\n",
       "      <th>Body Style</th>\n",
       "      <th>...</th>\n",
       "      <th>Route</th>\n",
       "      <th>Agency</th>\n",
       "      <th>Violation code</th>\n",
       "      <th>Violation Description</th>\n",
       "      <th>Fine amount</th>\n",
       "      <th>Latitude</th>\n",
       "      <th>Longitude</th>\n",
       "      <th>Agency Description</th>\n",
       "      <th>Color Description</th>\n",
       "      <th>Body Style Description</th>\n",
       "    </tr>\n",
       "  </thead>\n",
       "  <tbody>\n",
       "    <tr>\n",
       "      <th>0</th>\n",
       "      <td>1103341116</td>\n",
       "      <td>12/21/2015</td>\n",
       "      <td>1251.0</td>\n",
       "      <td>NaN</td>\n",
       "      <td>NaN</td>\n",
       "      <td>CA</td>\n",
       "      <td>200304.0</td>\n",
       "      <td>NaN</td>\n",
       "      <td>HOND</td>\n",
       "      <td>PA</td>\n",
       "      <td>...</td>\n",
       "      <td>1521</td>\n",
       "      <td>1.0</td>\n",
       "      <td>4000A1</td>\n",
       "      <td>NO EVIDENCE OF REG</td>\n",
       "      <td>50.0</td>\n",
       "      <td>99999.0</td>\n",
       "      <td>99999.0</td>\n",
       "      <td>NaN</td>\n",
       "      <td>NaN</td>\n",
       "      <td>NaN</td>\n",
       "    </tr>\n",
       "    <tr>\n",
       "      <th>1</th>\n",
       "      <td>1103700150</td>\n",
       "      <td>12/21/2015</td>\n",
       "      <td>1435.0</td>\n",
       "      <td>NaN</td>\n",
       "      <td>NaN</td>\n",
       "      <td>CA</td>\n",
       "      <td>201512.0</td>\n",
       "      <td>NaN</td>\n",
       "      <td>GMC</td>\n",
       "      <td>VN</td>\n",
       "      <td>...</td>\n",
       "      <td>1C51</td>\n",
       "      <td>1.0</td>\n",
       "      <td>4000A1</td>\n",
       "      <td>NO EVIDENCE OF REG</td>\n",
       "      <td>50.0</td>\n",
       "      <td>99999.0</td>\n",
       "      <td>99999.0</td>\n",
       "      <td>NaN</td>\n",
       "      <td>NaN</td>\n",
       "      <td>NaN</td>\n",
       "    </tr>\n",
       "    <tr>\n",
       "      <th>2</th>\n",
       "      <td>1104803000</td>\n",
       "      <td>12/21/2015</td>\n",
       "      <td>2055.0</td>\n",
       "      <td>NaN</td>\n",
       "      <td>NaN</td>\n",
       "      <td>CA</td>\n",
       "      <td>201503.0</td>\n",
       "      <td>NaN</td>\n",
       "      <td>NISS</td>\n",
       "      <td>PA</td>\n",
       "      <td>...</td>\n",
       "      <td>2R2</td>\n",
       "      <td>2.0</td>\n",
       "      <td>8939</td>\n",
       "      <td>WHITE CURB</td>\n",
       "      <td>58.0</td>\n",
       "      <td>6439997.9</td>\n",
       "      <td>1802686.4</td>\n",
       "      <td>NaN</td>\n",
       "      <td>NaN</td>\n",
       "      <td>NaN</td>\n",
       "    </tr>\n",
       "    <tr>\n",
       "      <th>3</th>\n",
       "      <td>1104820732</td>\n",
       "      <td>12/26/2015</td>\n",
       "      <td>1515.0</td>\n",
       "      <td>NaN</td>\n",
       "      <td>NaN</td>\n",
       "      <td>CA</td>\n",
       "      <td>NaN</td>\n",
       "      <td>NaN</td>\n",
       "      <td>ACUR</td>\n",
       "      <td>PA</td>\n",
       "      <td>...</td>\n",
       "      <td>2F11</td>\n",
       "      <td>2.0</td>\n",
       "      <td>0</td>\n",
       "      <td>17104h</td>\n",
       "      <td>NaN</td>\n",
       "      <td>6440041.1</td>\n",
       "      <td>1802686.2</td>\n",
       "      <td>NaN</td>\n",
       "      <td>NaN</td>\n",
       "      <td>NaN</td>\n",
       "    </tr>\n",
       "    <tr>\n",
       "      <th>4</th>\n",
       "      <td>1105461453</td>\n",
       "      <td>9/15/2015</td>\n",
       "      <td>115.0</td>\n",
       "      <td>NaN</td>\n",
       "      <td>NaN</td>\n",
       "      <td>CA</td>\n",
       "      <td>200316.0</td>\n",
       "      <td>NaN</td>\n",
       "      <td>CHEV</td>\n",
       "      <td>PA</td>\n",
       "      <td>...</td>\n",
       "      <td>1FB70</td>\n",
       "      <td>1.0</td>\n",
       "      <td>8069A</td>\n",
       "      <td>NO STOPPING/STANDING</td>\n",
       "      <td>93.0</td>\n",
       "      <td>99999.0</td>\n",
       "      <td>99999.0</td>\n",
       "      <td>NaN</td>\n",
       "      <td>NaN</td>\n",
       "      <td>NaN</td>\n",
       "    </tr>\n",
       "  </tbody>\n",
       "</table>\n",
       "<p>5 rows × 22 columns</p>\n",
       "</div>"
      ],
      "text/plain": [
       "  Ticket number  Issue Date  Issue time Meter Id  Marked Time RP State Plate  \\\n",
       "0    1103341116  12/21/2015      1251.0      NaN          NaN             CA   \n",
       "1    1103700150  12/21/2015      1435.0      NaN          NaN             CA   \n",
       "2    1104803000  12/21/2015      2055.0      NaN          NaN             CA   \n",
       "3    1104820732  12/26/2015      1515.0      NaN          NaN             CA   \n",
       "4    1105461453   9/15/2015       115.0      NaN          NaN             CA   \n",
       "\n",
       "   Plate Expiry Date  VIN  Make Body Style  ...  Route Agency Violation code  \\\n",
       "0           200304.0  NaN  HOND         PA  ...   1521    1.0         4000A1   \n",
       "1           201512.0  NaN   GMC         VN  ...   1C51    1.0         4000A1   \n",
       "2           201503.0  NaN  NISS         PA  ...    2R2    2.0           8939   \n",
       "3                NaN  NaN  ACUR         PA  ...   2F11    2.0              0   \n",
       "4           200316.0  NaN  CHEV         PA  ...  1FB70    1.0          8069A   \n",
       "\n",
       "   Violation Description Fine amount   Latitude  Longitude  \\\n",
       "0     NO EVIDENCE OF REG        50.0    99999.0    99999.0   \n",
       "1     NO EVIDENCE OF REG        50.0    99999.0    99999.0   \n",
       "2             WHITE CURB        58.0  6439997.9  1802686.4   \n",
       "3                 17104h         NaN  6440041.1  1802686.2   \n",
       "4   NO STOPPING/STANDING        93.0    99999.0    99999.0   \n",
       "\n",
       "   Agency Description  Color Description  Body Style Description  \n",
       "0                 NaN                NaN                     NaN  \n",
       "1                 NaN                NaN                     NaN  \n",
       "2                 NaN                NaN                     NaN  \n",
       "3                 NaN                NaN                     NaN  \n",
       "4                 NaN                NaN                     NaN  \n",
       "\n",
       "[5 rows x 22 columns]"
      ]
     },
     "execution_count": 5,
     "metadata": {},
     "output_type": "execute_result"
    }
   ],
   "source": [
    "df_pandas.head()"
   ]
  },
  {
   "cell_type": "markdown",
   "id": "bd43d847",
   "metadata": {},
   "source": [
    "##### 2. Remove the spaces from column headers and replace it with underline:"
   ]
  },
  {
   "cell_type": "code",
   "execution_count": 6,
   "id": "24f2edfd",
   "metadata": {},
   "outputs": [],
   "source": [
    "df_pandas.columns = df_pandas.columns.str.replace(\" \", \"_\")\n"
   ]
  },
  {
   "cell_type": "code",
   "execution_count": 7,
   "id": "6528506d",
   "metadata": {},
   "outputs": [
    {
     "data": {
      "text/plain": [
       "Index(['Ticket_number', 'Issue_Date', 'Issue_time', 'Meter_Id', 'Marked_Time',\n",
       "       'RP_State_Plate', 'Plate_Expiry_Date', 'VIN', 'Make', 'Body_Style',\n",
       "       'Color', 'Location', 'Route', 'Agency', 'Violation_code',\n",
       "       'Violation_Description', 'Fine_amount', 'Latitude', 'Longitude',\n",
       "       'Agency_Description', 'Color_Description', 'Body_Style_Description'],\n",
       "      dtype='object')"
      ]
     },
     "execution_count": 7,
     "metadata": {},
     "output_type": "execute_result"
    }
   ],
   "source": [
    "df_pandas.columns"
   ]
  },
  {
   "cell_type": "markdown",
   "id": "78ba726a",
   "metadata": {},
   "source": [
    "##### 3. Change data types for (Ticket_number, Issue_Date ) columns into (string, datetime) respectively "
   ]
  },
  {
   "cell_type": "code",
   "execution_count": 8,
   "id": "54d0ebf6",
   "metadata": {},
   "outputs": [],
   "source": [
    "df_pandas['Ticket_number'] = df_pandas['Ticket_number'].astype('string')"
   ]
  },
  {
   "cell_type": "code",
   "execution_count": 9,
   "id": "de2d5ef0",
   "metadata": {},
   "outputs": [],
   "source": [
    "df_pandas['Issue_Date'] = pd.to_datetime(df_pandas['Issue_Date'])"
   ]
  },
  {
   "cell_type": "code",
   "execution_count": 10,
   "id": "5e80cb1a",
   "metadata": {},
   "outputs": [
    {
     "name": "stdout",
     "output_type": "stream",
     "text": [
      "<class 'pandas.core.frame.DataFrame'>\n",
      "Int64Index: 1000003 entries, 0 to 29\n",
      "Data columns (total 22 columns):\n",
      " #   Column                  Non-Null Count    Dtype         \n",
      "---  ------                  --------------    -----         \n",
      " 0   Ticket_number           1000003 non-null  string        \n",
      " 1   Issue_Date              999933 non-null   datetime64[ns]\n",
      " 2   Issue_time              999642 non-null   float64       \n",
      " 3   Meter_Id                268020 non-null   object        \n",
      " 4   Marked_Time             37661 non-null    float64       \n",
      " 5   RP_State_Plate          999928 non-null   object        \n",
      " 6   Plate_Expiry_Date       912248 non-null   float64       \n",
      " 7   VIN                     16309 non-null    object        \n",
      " 8   Make                    998775 non-null   object        \n",
      " 9   Body_Style              998673 non-null   object        \n",
      " 10  Color                   999355 non-null   object        \n",
      " 11  Location                999886 non-null   object        \n",
      " 12  Route                   990754 non-null   object        \n",
      " 13  Agency                  999932 non-null   float64       \n",
      " 14  Violation_code          1000003 non-null  object        \n",
      " 15  Violation_Description   999882 non-null   object        \n",
      " 16  Fine_amount             998827 non-null   float64       \n",
      " 17  Latitude                1000003 non-null  float64       \n",
      " 18  Longitude               1000003 non-null  float64       \n",
      " 19  Agency_Description      0 non-null        float64       \n",
      " 20  Color_Description       0 non-null        float64       \n",
      " 21  Body_Style_Description  0 non-null        float64       \n",
      "dtypes: datetime64[ns](1), float64(10), object(10), string(1)\n",
      "memory usage: 175.5+ MB\n"
     ]
    }
   ],
   "source": [
    "df_pandas.info()"
   ]
  },
  {
   "cell_type": "markdown",
   "id": "411e170c",
   "metadata": {},
   "source": [
    "##### 4. Check if a column has any digits in its values. Return the rows where this is true. Check for column \"Violation_Description\". \n",
    "e.g. 17104h --> True,     WHITE CURB --> False"
   ]
  },
  {
   "cell_type": "code",
   "execution_count": 11,
   "id": "f7e754ae",
   "metadata": {},
   "outputs": [
    {
     "data": {
      "text/plain": [
       "3                    17104h\n",
       "31          NO PK BET 1-3AM\n",
       "37                   22502A\n",
       "39                   22502A\n",
       "63                   17104h\n",
       "                ...        \n",
       "999801    18 IN. CURB/1 WAY\n",
       "999809    18 IN. CURB/1 WAY\n",
       "999855    18 IN. CURB/2 WAY\n",
       "3                    17104h\n",
       "27                     5204\n",
       "Name: Violation_Description, Length: 27550, dtype: object"
      ]
     },
     "execution_count": 11,
     "metadata": {},
     "output_type": "execute_result"
    }
   ],
   "source": [
    "my_col = 'Violation_Description'\n",
    "\n",
    "def has_digit(df, my_col):\n",
    "\n",
    "    series = df[my_col].str.contains('\\\\d', regex=True)\n",
    "\n",
    "    result = df.loc[series == True]\n",
    "\n",
    "    return result[my_col]\n",
    "\n",
    "has_digit(df_pandas, my_col)"
   ]
  },
  {
   "cell_type": "markdown",
   "id": "68f574cd",
   "metadata": {},
   "source": [
    "##### 5. Write a function to check if a column only has \"Alphabet\" values, return the rows where this is not true. Check for \"Make\" column. "
   ]
  },
  {
   "cell_type": "code",
   "execution_count": 12,
   "id": "5870fb6a",
   "metadata": {},
   "outputs": [
    {
     "data": {
      "text/plain": [
       "467909    A4\n",
       "Name: Make, dtype: object"
      ]
     },
     "execution_count": 12,
     "metadata": {},
     "output_type": "execute_result"
    }
   ],
   "source": [
    "my_col = 'Make'\n",
    "\n",
    "def only_alpha(df, my_col):\n",
    "\n",
    "        series = df[my_col].str.isalpha()\n",
    "        result = df.loc[series == False]\n",
    "        return result[my_col]\n",
    "\n",
    "only_alpha(df_pandas, my_col)"
   ]
  },
  {
   "cell_type": "markdown",
   "id": "91e38687",
   "metadata": {},
   "source": [
    "##### 6. Write a function to check if a column only has \"Numberic\" values, return the rows where this is not true. Check for TicketNumber column. "
   ]
  },
  {
   "cell_type": "code",
   "execution_count": 13,
   "id": "a580df7e",
   "metadata": {},
   "outputs": [
    {
     "data": {
      "text/plain": [
       "456378    1107495524D\n",
       "456379    1107495535D\n",
       "456380    1107495546D\n",
       "456382    1107502524D\n",
       "456383    1107503106D\n",
       "456384    1107503110D\n",
       "887536    1046703641D\n",
       "889238    1107495550D\n",
       "889239    1107496121D\n",
       "889240    1107496132D\n",
       "889241    1107496143D\n",
       "889246    1107502056D\n",
       "889247    1107502060D\n",
       "889248    1107502071D\n",
       "889249    1107502082D\n",
       "889250    1107502093D\n",
       "889251    1107502104D\n",
       "889252    1107502115D\n",
       "889253    1107502126D\n",
       "889255    1107502141D\n",
       "889256    1107502152D\n",
       "889257    1107502163D\n",
       "889258    1107502174D\n",
       "889259    1107502185D\n",
       "889260    1107502196D\n",
       "889261    1107502200D\n",
       "889262    1107502211D\n",
       "889263    1107502222D\n",
       "889264    1107502244D\n",
       "889265    1107503121D\n",
       "889266    1107503132D\n",
       "889267    1107503154D\n",
       "889268    1107503165D\n",
       "889270    1107504171D\n",
       "889271    1107504182D\n",
       "889272    1107504241D\n",
       "889273    1107504366D\n",
       "889275    1107506422D\n",
       "889276    1107506433D\n",
       "889277    1107506444D\n",
       "889278    1107506455D\n",
       "889279    1107506466D\n",
       "889280    1107506470D\n",
       "889281    1107507660D\n",
       "889282    1107507671D\n",
       "889283    1107507682D\n",
       "889284    1107507693D\n",
       "901063    1112203050D\n",
       "Name: Ticket_number, dtype: string"
      ]
     },
     "execution_count": 13,
     "metadata": {},
     "output_type": "execute_result"
    }
   ],
   "source": [
    "my_col = 'Ticket_number'\n",
    "\n",
    "def only_number(df, my_col):\n",
    "    series = df[my_col].str.isdecimal()\n",
    "    result = df.loc[series == False]\n",
    "    return result[my_col]    \n",
    "     \n",
    "\n",
    "only_number(df_pandas, my_col)"
   ]
  },
  {
   "cell_type": "markdown",
   "id": "c4f1dc0e",
   "metadata": {},
   "source": [
    "##### 7. Add a column \"Distance_to_pointA\", collecting the distance between each point and the point A: Ya= 6439997, Xa= 1802686. \n",
    "Drop rows with either Nan or values like 99999. \n",
    "\n",
    "Note: Parking citations with latitude / longitude (XY) in US Feet coordinates according to the NAD_1983_StatePlane_California_V_FIPS_0405_Feet projection."
   ]
  },
  {
   "cell_type": "code",
   "execution_count": 14,
   "id": "468dea8f",
   "metadata": {},
   "outputs": [
    {
     "data": {
      "text/plain": [
       "(0, 0)"
      ]
     },
     "execution_count": 14,
     "metadata": {},
     "output_type": "execute_result"
    }
   ],
   "source": [
    "df_pandas['Latitude'].isna().sum(), df_pandas['Longitude'].isna().sum()"
   ]
  },
  {
   "cell_type": "code",
   "execution_count": 15,
   "id": "e384d6c9",
   "metadata": {},
   "outputs": [],
   "source": [
    "# drop rows with values like 99999 in Latitude and/or Longitude\n",
    "\n",
    "df_pandas = df_pandas.loc[(df_pandas.Latitude >= 100000) & (df_pandas.Longitude >= 100000)]"
   ]
  },
  {
   "cell_type": "code",
   "execution_count": 16,
   "id": "348eec67",
   "metadata": {},
   "outputs": [],
   "source": [
    "# calculate distance between all rows(Longitude/Latitude) and point A (6439997,1802686)\n",
    "\n",
    "latA = 6439997\n",
    "lonA = 1802686\n",
    "\n",
    "df_pandas.loc[:,'Distance_to_pointA'] = np.sqrt((df_pandas.loc[:,'Latitude'] - latA)**2 \\\n",
    "+ (df_pandas.loc[:,'Longitude'] - lonA)**2)\n",
    "\n"
   ]
  },
  {
   "cell_type": "code",
   "execution_count": 17,
   "id": "ae36f82d",
   "metadata": {},
   "outputs": [
    {
     "data": {
      "text/plain": [
       "(749980, 23)"
      ]
     },
     "execution_count": 17,
     "metadata": {},
     "output_type": "execute_result"
    }
   ],
   "source": [
    "df_pandas.shape"
   ]
  },
  {
   "cell_type": "code",
   "execution_count": 18,
   "id": "27451174",
   "metadata": {},
   "outputs": [
    {
     "data": {
      "text/html": [
       "<div>\n",
       "<style scoped>\n",
       "    .dataframe tbody tr th:only-of-type {\n",
       "        vertical-align: middle;\n",
       "    }\n",
       "\n",
       "    .dataframe tbody tr th {\n",
       "        vertical-align: top;\n",
       "    }\n",
       "\n",
       "    .dataframe thead th {\n",
       "        text-align: right;\n",
       "    }\n",
       "</style>\n",
       "<table border=\"1\" class=\"dataframe\">\n",
       "  <thead>\n",
       "    <tr style=\"text-align: right;\">\n",
       "      <th></th>\n",
       "      <th>Ticket_number</th>\n",
       "      <th>Issue_Date</th>\n",
       "      <th>Issue_time</th>\n",
       "      <th>Meter_Id</th>\n",
       "      <th>Marked_Time</th>\n",
       "      <th>RP_State_Plate</th>\n",
       "      <th>Plate_Expiry_Date</th>\n",
       "      <th>VIN</th>\n",
       "      <th>Make</th>\n",
       "      <th>Body_Style</th>\n",
       "      <th>...</th>\n",
       "      <th>Agency</th>\n",
       "      <th>Violation_code</th>\n",
       "      <th>Violation_Description</th>\n",
       "      <th>Fine_amount</th>\n",
       "      <th>Latitude</th>\n",
       "      <th>Longitude</th>\n",
       "      <th>Agency_Description</th>\n",
       "      <th>Color_Description</th>\n",
       "      <th>Body_Style_Description</th>\n",
       "      <th>Distance_to_pointA</th>\n",
       "    </tr>\n",
       "  </thead>\n",
       "  <tbody>\n",
       "    <tr>\n",
       "      <th>2</th>\n",
       "      <td>1104803000</td>\n",
       "      <td>2015-12-21</td>\n",
       "      <td>2055.0</td>\n",
       "      <td>NaN</td>\n",
       "      <td>NaN</td>\n",
       "      <td>CA</td>\n",
       "      <td>201503.0</td>\n",
       "      <td>NaN</td>\n",
       "      <td>NISS</td>\n",
       "      <td>PA</td>\n",
       "      <td>...</td>\n",
       "      <td>2.0</td>\n",
       "      <td>8939</td>\n",
       "      <td>WHITE CURB</td>\n",
       "      <td>58.0</td>\n",
       "      <td>6439997.9</td>\n",
       "      <td>1802686.4</td>\n",
       "      <td>NaN</td>\n",
       "      <td>NaN</td>\n",
       "      <td>NaN</td>\n",
       "      <td>0.984886</td>\n",
       "    </tr>\n",
       "    <tr>\n",
       "      <th>3</th>\n",
       "      <td>1104820732</td>\n",
       "      <td>2015-12-26</td>\n",
       "      <td>1515.0</td>\n",
       "      <td>NaN</td>\n",
       "      <td>NaN</td>\n",
       "      <td>CA</td>\n",
       "      <td>NaN</td>\n",
       "      <td>NaN</td>\n",
       "      <td>ACUR</td>\n",
       "      <td>PA</td>\n",
       "      <td>...</td>\n",
       "      <td>2.0</td>\n",
       "      <td>0</td>\n",
       "      <td>17104h</td>\n",
       "      <td>NaN</td>\n",
       "      <td>6440041.1</td>\n",
       "      <td>1802686.2</td>\n",
       "      <td>NaN</td>\n",
       "      <td>NaN</td>\n",
       "      <td>NaN</td>\n",
       "      <td>44.100454</td>\n",
       "    </tr>\n",
       "    <tr>\n",
       "      <th>6</th>\n",
       "      <td>1108321723</td>\n",
       "      <td>2015-12-21</td>\n",
       "      <td>1041.0</td>\n",
       "      <td>NaN</td>\n",
       "      <td>NaN</td>\n",
       "      <td>CA</td>\n",
       "      <td>201610.0</td>\n",
       "      <td>NaN</td>\n",
       "      <td>HOND</td>\n",
       "      <td>PA</td>\n",
       "      <td>...</td>\n",
       "      <td>1.0</td>\n",
       "      <td>8.06E+07</td>\n",
       "      <td>RED ZONE</td>\n",
       "      <td>93.0</td>\n",
       "      <td>6451860.6</td>\n",
       "      <td>1890192.1</td>\n",
       "      <td>NaN</td>\n",
       "      <td>NaN</td>\n",
       "      <td>NaN</td>\n",
       "      <td>88306.639287</td>\n",
       "    </tr>\n",
       "    <tr>\n",
       "      <th>15</th>\n",
       "      <td>1109139006</td>\n",
       "      <td>2015-12-19</td>\n",
       "      <td>1550.0</td>\n",
       "      <td>NaN</td>\n",
       "      <td>NaN</td>\n",
       "      <td>CA</td>\n",
       "      <td>201608.0</td>\n",
       "      <td>NaN</td>\n",
       "      <td>HOND</td>\n",
       "      <td>NaN</td>\n",
       "      <td>...</td>\n",
       "      <td>1.0</td>\n",
       "      <td>225078A</td>\n",
       "      <td>HANDICAP/NO DP ID</td>\n",
       "      <td>363.0</td>\n",
       "      <td>6429130.8</td>\n",
       "      <td>1880027.3</td>\n",
       "      <td>NaN</td>\n",
       "      <td>NaN</td>\n",
       "      <td>NaN</td>\n",
       "      <td>78100.902608</td>\n",
       "    </tr>\n",
       "    <tr>\n",
       "      <th>16</th>\n",
       "      <td>1109455266</td>\n",
       "      <td>2015-12-26</td>\n",
       "      <td>1815.0</td>\n",
       "      <td>NaN</td>\n",
       "      <td>NaN</td>\n",
       "      <td>NY</td>\n",
       "      <td>NaN</td>\n",
       "      <td>NaN</td>\n",
       "      <td>TOYO</td>\n",
       "      <td>PA</td>\n",
       "      <td>...</td>\n",
       "      <td>36.0</td>\n",
       "      <td>8603</td>\n",
       "      <td>PK IN PROH AREA</td>\n",
       "      <td>68.0</td>\n",
       "      <td>6467477.1</td>\n",
       "      <td>1868721.0</td>\n",
       "      <td>NaN</td>\n",
       "      <td>NaN</td>\n",
       "      <td>NaN</td>\n",
       "      <td>71524.660929</td>\n",
       "    </tr>\n",
       "  </tbody>\n",
       "</table>\n",
       "<p>5 rows × 23 columns</p>\n",
       "</div>"
      ],
      "text/plain": [
       "   Ticket_number Issue_Date  Issue_time Meter_Id  Marked_Time RP_State_Plate  \\\n",
       "2     1104803000 2015-12-21      2055.0      NaN          NaN             CA   \n",
       "3     1104820732 2015-12-26      1515.0      NaN          NaN             CA   \n",
       "6     1108321723 2015-12-21      1041.0      NaN          NaN             CA   \n",
       "15    1109139006 2015-12-19      1550.0      NaN          NaN             CA   \n",
       "16    1109455266 2015-12-26      1815.0      NaN          NaN             NY   \n",
       "\n",
       "    Plate_Expiry_Date  VIN  Make Body_Style  ... Agency Violation_code  \\\n",
       "2            201503.0  NaN  NISS         PA  ...    2.0           8939   \n",
       "3                 NaN  NaN  ACUR         PA  ...    2.0              0   \n",
       "6            201610.0  NaN  HOND         PA  ...    1.0       8.06E+07   \n",
       "15           201608.0  NaN  HOND        NaN  ...    1.0        225078A   \n",
       "16                NaN  NaN  TOYO         PA  ...   36.0           8603   \n",
       "\n",
       "   Violation_Description  Fine_amount   Latitude  Longitude  \\\n",
       "2             WHITE CURB         58.0  6439997.9  1802686.4   \n",
       "3                 17104h          NaN  6440041.1  1802686.2   \n",
       "6               RED ZONE         93.0  6451860.6  1890192.1   \n",
       "15     HANDICAP/NO DP ID        363.0  6429130.8  1880027.3   \n",
       "16       PK IN PROH AREA         68.0  6467477.1  1868721.0   \n",
       "\n",
       "    Agency_Description  Color_Description  Body_Style_Description  \\\n",
       "2                  NaN                NaN                     NaN   \n",
       "3                  NaN                NaN                     NaN   \n",
       "6                  NaN                NaN                     NaN   \n",
       "15                 NaN                NaN                     NaN   \n",
       "16                 NaN                NaN                     NaN   \n",
       "\n",
       "    Distance_to_pointA  \n",
       "2             0.984886  \n",
       "3            44.100454  \n",
       "6         88306.639287  \n",
       "15        78100.902608  \n",
       "16        71524.660929  \n",
       "\n",
       "[5 rows x 23 columns]"
      ]
     },
     "execution_count": 18,
     "metadata": {},
     "output_type": "execute_result"
    }
   ],
   "source": [
    "df_pandas.head()"
   ]
  },
  {
   "cell_type": "markdown",
   "id": "a25bdbb8",
   "metadata": {},
   "source": [
    "##### 8. Is there any duplicates in dataframe? If yes, print them and then drop them."
   ]
  },
  {
   "cell_type": "code",
   "execution_count": 19,
   "id": "d12814e1",
   "metadata": {},
   "outputs": [
    {
     "data": {
      "text/html": [
       "<div>\n",
       "<style scoped>\n",
       "    .dataframe tbody tr th:only-of-type {\n",
       "        vertical-align: middle;\n",
       "    }\n",
       "\n",
       "    .dataframe tbody tr th {\n",
       "        vertical-align: top;\n",
       "    }\n",
       "\n",
       "    .dataframe thead th {\n",
       "        text-align: right;\n",
       "    }\n",
       "</style>\n",
       "<table border=\"1\" class=\"dataframe\">\n",
       "  <thead>\n",
       "    <tr style=\"text-align: right;\">\n",
       "      <th></th>\n",
       "      <th>Ticket_number</th>\n",
       "      <th>Issue_Date</th>\n",
       "      <th>Issue_time</th>\n",
       "      <th>Meter_Id</th>\n",
       "      <th>Marked_Time</th>\n",
       "      <th>RP_State_Plate</th>\n",
       "      <th>Plate_Expiry_Date</th>\n",
       "      <th>VIN</th>\n",
       "      <th>Make</th>\n",
       "      <th>Body_Style</th>\n",
       "      <th>...</th>\n",
       "      <th>Agency</th>\n",
       "      <th>Violation_code</th>\n",
       "      <th>Violation_Description</th>\n",
       "      <th>Fine_amount</th>\n",
       "      <th>Latitude</th>\n",
       "      <th>Longitude</th>\n",
       "      <th>Agency_Description</th>\n",
       "      <th>Color_Description</th>\n",
       "      <th>Body_Style_Description</th>\n",
       "      <th>Distance_to_pointA</th>\n",
       "    </tr>\n",
       "  </thead>\n",
       "  <tbody>\n",
       "    <tr>\n",
       "      <th>2</th>\n",
       "      <td>1104803000</td>\n",
       "      <td>2015-12-21</td>\n",
       "      <td>2055.0</td>\n",
       "      <td>NaN</td>\n",
       "      <td>NaN</td>\n",
       "      <td>CA</td>\n",
       "      <td>201503.0</td>\n",
       "      <td>NaN</td>\n",
       "      <td>NISS</td>\n",
       "      <td>PA</td>\n",
       "      <td>...</td>\n",
       "      <td>2.0</td>\n",
       "      <td>8939</td>\n",
       "      <td>WHITE CURB</td>\n",
       "      <td>58.0</td>\n",
       "      <td>6439997.9</td>\n",
       "      <td>1802686.4</td>\n",
       "      <td>NaN</td>\n",
       "      <td>NaN</td>\n",
       "      <td>NaN</td>\n",
       "      <td>0.984886</td>\n",
       "    </tr>\n",
       "    <tr>\n",
       "      <th>3</th>\n",
       "      <td>1104820732</td>\n",
       "      <td>2015-12-26</td>\n",
       "      <td>1515.0</td>\n",
       "      <td>NaN</td>\n",
       "      <td>NaN</td>\n",
       "      <td>CA</td>\n",
       "      <td>NaN</td>\n",
       "      <td>NaN</td>\n",
       "      <td>ACUR</td>\n",
       "      <td>PA</td>\n",
       "      <td>...</td>\n",
       "      <td>2.0</td>\n",
       "      <td>0</td>\n",
       "      <td>17104h</td>\n",
       "      <td>NaN</td>\n",
       "      <td>6440041.1</td>\n",
       "      <td>1802686.2</td>\n",
       "      <td>NaN</td>\n",
       "      <td>NaN</td>\n",
       "      <td>NaN</td>\n",
       "      <td>44.100454</td>\n",
       "    </tr>\n",
       "  </tbody>\n",
       "</table>\n",
       "<p>2 rows × 23 columns</p>\n",
       "</div>"
      ],
      "text/plain": [
       "  Ticket_number Issue_Date  Issue_time Meter_Id  Marked_Time RP_State_Plate  \\\n",
       "2    1104803000 2015-12-21      2055.0      NaN          NaN             CA   \n",
       "3    1104820732 2015-12-26      1515.0      NaN          NaN             CA   \n",
       "\n",
       "   Plate_Expiry_Date  VIN  Make Body_Style  ... Agency Violation_code  \\\n",
       "2           201503.0  NaN  NISS         PA  ...    2.0           8939   \n",
       "3                NaN  NaN  ACUR         PA  ...    2.0              0   \n",
       "\n",
       "  Violation_Description  Fine_amount   Latitude  Longitude  \\\n",
       "2            WHITE CURB         58.0  6439997.9  1802686.4   \n",
       "3                17104h          NaN  6440041.1  1802686.2   \n",
       "\n",
       "   Agency_Description  Color_Description  Body_Style_Description  \\\n",
       "2                 NaN                NaN                     NaN   \n",
       "3                 NaN                NaN                     NaN   \n",
       "\n",
       "   Distance_to_pointA  \n",
       "2            0.984886  \n",
       "3           44.100454  \n",
       "\n",
       "[2 rows x 23 columns]"
      ]
     },
     "execution_count": 19,
     "metadata": {},
     "output_type": "execute_result"
    }
   ],
   "source": [
    "duplicate_Rows = df_pandas[df_pandas.duplicated()]\n",
    "duplicate_Rows"
   ]
  },
  {
   "cell_type": "code",
   "execution_count": 20,
   "id": "601e7db2",
   "metadata": {},
   "outputs": [],
   "source": [
    "df_pandas = df_pandas.drop(duplicate_Rows.index)"
   ]
  },
  {
   "cell_type": "code",
   "execution_count": 21,
   "id": "c5c61993",
   "metadata": {},
   "outputs": [
    {
     "data": {
      "text/plain": [
       "(749976, 23)"
      ]
     },
     "execution_count": 21,
     "metadata": {},
     "output_type": "execute_result"
    }
   ],
   "source": [
    "df_pandas.shape"
   ]
  },
  {
   "cell_type": "markdown",
   "id": "39e5b079",
   "metadata": {},
   "source": [
    "##### 9. Find the columns with more than 70% missing values, print them, and then drop them."
   ]
  },
  {
   "cell_type": "code",
   "execution_count": 22,
   "id": "1d31ac73",
   "metadata": {},
   "outputs": [
    {
     "data": {
      "text/plain": [
       "Ticket_number             0.00\n",
       "Issue_Date                0.00\n",
       "Issue_time                0.00\n",
       "Meter_Id                  0.67\n",
       "Marked_Time               0.96\n",
       "RP_State_Plate            0.00\n",
       "Plate_Expiry_Date         0.09\n",
       "VIN                       0.98\n",
       "Make                      0.00\n",
       "Body_Style                0.00\n",
       "Color                     0.00\n",
       "Location                  0.00\n",
       "Route                     0.00\n",
       "Agency                    0.00\n",
       "Violation_code            0.00\n",
       "Violation_Description     0.00\n",
       "Fine_amount               0.00\n",
       "Latitude                  0.00\n",
       "Longitude                 0.00\n",
       "Agency_Description        1.00\n",
       "Color_Description         1.00\n",
       "Body_Style_Description    1.00\n",
       "Distance_to_pointA        0.00\n",
       "dtype: float64"
      ]
     },
     "execution_count": 22,
     "metadata": {},
     "output_type": "execute_result"
    }
   ],
   "source": [
    "# Find the columns with more than 70% missing values\n",
    "\n",
    "def get_percentage_missing(series):\n",
    "\n",
    "    num = series.isnull().sum()\n",
    "    den = len(series)\n",
    "    return round(num/den, 2)\n",
    "\n",
    "get_percentage_missing(df_pandas)"
   ]
  },
  {
   "cell_type": "code",
   "execution_count": 23,
   "id": "2699e96f",
   "metadata": {},
   "outputs": [
    {
     "data": {
      "text/plain": [
       "Ticket_number            0.00\n",
       "Issue_Date               0.00\n",
       "Issue_time               0.00\n",
       "Meter_Id                 0.67\n",
       "RP_State_Plate           0.00\n",
       "Plate_Expiry_Date        0.09\n",
       "Make                     0.00\n",
       "Body_Style               0.00\n",
       "Color                    0.00\n",
       "Location                 0.00\n",
       "Route                    0.00\n",
       "Agency                   0.00\n",
       "Violation_code           0.00\n",
       "Violation_Description    0.00\n",
       "Fine_amount              0.00\n",
       "Latitude                 0.00\n",
       "Longitude                0.00\n",
       "Distance_to_pointA       0.00\n",
       "dtype: float64"
      ]
     },
     "execution_count": 23,
     "metadata": {},
     "output_type": "execute_result"
    }
   ],
   "source": [
    "# Drop columns with more than 70% missing values \n",
    "\n",
    "df_pandas = df_pandas.loc[:, df_pandas.isnull().mean() <= .70]\n",
    "get_percentage_missing(df_pandas)"
   ]
  },
  {
   "cell_type": "code",
   "execution_count": 24,
   "id": "1fcae86f",
   "metadata": {},
   "outputs": [
    {
     "name": "stdout",
     "output_type": "stream",
     "text": [
      "<class 'pandas.core.frame.DataFrame'>\n",
      "Int64Index: 749976 entries, 6 to 999972\n",
      "Data columns (total 18 columns):\n",
      " #   Column                 Non-Null Count   Dtype         \n",
      "---  ------                 --------------   -----         \n",
      " 0   Ticket_number          749976 non-null  string        \n",
      " 1   Issue_Date             749976 non-null  datetime64[ns]\n",
      " 2   Issue_time             749840 non-null  float64       \n",
      " 3   Meter_Id               248690 non-null  object        \n",
      " 4   RP_State_Plate         749912 non-null  object        \n",
      " 5   Plate_Expiry_Date      682669 non-null  float64       \n",
      " 6   Make                   749467 non-null  object        \n",
      " 7   Body_Style             749524 non-null  object        \n",
      " 8   Color                  749743 non-null  object        \n",
      " 9   Location               749976 non-null  object        \n",
      " 10  Route                  746341 non-null  object        \n",
      " 11  Agency                 749976 non-null  float64       \n",
      " 12  Violation_code         749976 non-null  object        \n",
      " 13  Violation_Description  749946 non-null  object        \n",
      " 14  Fine_amount            749615 non-null  float64       \n",
      " 15  Latitude               749976 non-null  float64       \n",
      " 16  Longitude              749976 non-null  float64       \n",
      " 17  Distance_to_pointA     749976 non-null  float64       \n",
      "dtypes: datetime64[ns](1), float64(7), object(9), string(1)\n",
      "memory usage: 108.7+ MB\n"
     ]
    }
   ],
   "source": [
    "df_pandas.info()"
   ]
  },
  {
   "cell_type": "markdown",
   "id": "d4dec8b3",
   "metadata": {},
   "source": [
    "##### 10. Find RP_State_Plates that are not for US, then drop their data."
   ]
  },
  {
   "cell_type": "code",
   "execution_count": 25,
   "id": "16b5c5db",
   "metadata": {},
   "outputs": [
    {
     "data": {
      "text/plain": [
       "75"
      ]
     },
     "execution_count": 25,
     "metadata": {},
     "output_type": "execute_result"
    }
   ],
   "source": [
    "# To find the US state abbrevation, you can use State_Abbreviation.xlsx' dataset\n",
    "len(df_pandas['RP_State_Plate'].unique())"
   ]
  },
  {
   "cell_type": "code",
   "execution_count": 26,
   "id": "64d2c2ea",
   "metadata": {},
   "outputs": [
    {
     "data": {
      "text/html": [
       "<div>\n",
       "<style scoped>\n",
       "    .dataframe tbody tr th:only-of-type {\n",
       "        vertical-align: middle;\n",
       "    }\n",
       "\n",
       "    .dataframe tbody tr th {\n",
       "        vertical-align: top;\n",
       "    }\n",
       "\n",
       "    .dataframe thead th {\n",
       "        text-align: right;\n",
       "    }\n",
       "</style>\n",
       "<table border=\"1\" class=\"dataframe\">\n",
       "  <thead>\n",
       "    <tr style=\"text-align: right;\">\n",
       "      <th></th>\n",
       "      <th>State</th>\n",
       "      <th>Abbreviation</th>\n",
       "    </tr>\n",
       "  </thead>\n",
       "  <tbody>\n",
       "    <tr>\n",
       "      <th>0</th>\n",
       "      <td>Alabama</td>\n",
       "      <td>AL</td>\n",
       "    </tr>\n",
       "    <tr>\n",
       "      <th>1</th>\n",
       "      <td>Alaska</td>\n",
       "      <td>AK</td>\n",
       "    </tr>\n",
       "    <tr>\n",
       "      <th>2</th>\n",
       "      <td>Arizona</td>\n",
       "      <td>AZ</td>\n",
       "    </tr>\n",
       "    <tr>\n",
       "      <th>3</th>\n",
       "      <td>Arkansas</td>\n",
       "      <td>AR</td>\n",
       "    </tr>\n",
       "    <tr>\n",
       "      <th>4</th>\n",
       "      <td>California</td>\n",
       "      <td>CA</td>\n",
       "    </tr>\n",
       "  </tbody>\n",
       "</table>\n",
       "</div>"
      ],
      "text/plain": [
       "        State Abbreviation\n",
       "0     Alabama           AL\n",
       "1      Alaska           AK\n",
       "2     Arizona           AZ\n",
       "3    Arkansas           AR\n",
       "4  California           CA"
      ]
     },
     "execution_count": 26,
     "metadata": {},
     "output_type": "execute_result"
    }
   ],
   "source": [
    "state_abbv_df = pd.read_excel('State_Abbreviation.xlsx')\n",
    "state_abbv_df.head()"
   ]
  },
  {
   "cell_type": "code",
   "execution_count": 27,
   "id": "2f990283",
   "metadata": {},
   "outputs": [],
   "source": [
    "abbv_list = state_abbv_df['Abbreviation'].tolist()\n",
    "df_pandas = (df_pandas[df_pandas['RP_State_Plate'].isin(abbv_list)])"
   ]
  },
  {
   "cell_type": "code",
   "execution_count": 28,
   "id": "d1fb21b7",
   "metadata": {},
   "outputs": [
    {
     "data": {
      "text/plain": [
       "50"
      ]
     },
     "execution_count": 28,
     "metadata": {},
     "output_type": "execute_result"
    }
   ],
   "source": [
    "len(df_pandas['RP_State_Plate'].unique())"
   ]
  },
  {
   "cell_type": "code",
   "execution_count": 29,
   "id": "e783cb61",
   "metadata": {},
   "outputs": [
    {
     "data": {
      "text/plain": [
       "(748312, 18)"
      ]
     },
     "execution_count": 29,
     "metadata": {},
     "output_type": "execute_result"
    }
   ],
   "source": [
    "df_pandas.shape"
   ]
  },
  {
   "cell_type": "markdown",
   "id": "f026ec8e",
   "metadata": {},
   "source": [
    "##### 11. Almost 4% of Fine_Amount column has missing values, handle these missing values. "
   ]
  },
  {
   "cell_type": "code",
   "execution_count": 30,
   "id": "82863e56",
   "metadata": {},
   "outputs": [
    {
     "data": {
      "text/plain": [
       "358"
      ]
     },
     "execution_count": 30,
     "metadata": {},
     "output_type": "execute_result"
    }
   ],
   "source": [
    "series = df_pandas.Fine_amount.isna()\n",
    "df_nofine = df_pandas.loc[series == True]\n",
    "df_nofine.Fine_amount.isna().sum()"
   ]
  },
  {
   "cell_type": "code",
   "execution_count": 31,
   "id": "7afa41ac",
   "metadata": {},
   "outputs": [
    {
     "data": {
      "text/plain": [
       "['0', '80.69.2', '80.71.3', '8069BS']"
      ]
     },
     "execution_count": 31,
     "metadata": {},
     "output_type": "execute_result"
    }
   ],
   "source": [
    "codes = df_nofine.Violation_code.value_counts().index.to_list()\n",
    "codes"
   ]
  },
  {
   "cell_type": "code",
   "execution_count": 32,
   "id": "92c90270",
   "metadata": {},
   "outputs": [
    {
     "name": "stdout",
     "output_type": "stream",
     "text": [
      "Violation Code  0\n",
      "------\n",
      "93.0    17\n",
      "25.0     2\n",
      "Name: Fine_amount, dtype: int64\n",
      "--------------------\n",
      "Violation Code  80.69.2\n",
      "------\n",
      "78.0     1325\n",
      "133.0     656\n",
      "103.0     439\n",
      "Name: Fine_amount, dtype: int64\n",
      "--------------------\n",
      "Violation Code  80.71.3\n",
      "------\n",
      "68.0     192\n",
      "93.0      32\n",
      "143.0     19\n",
      "Name: Fine_amount, dtype: int64\n",
      "--------------------\n",
      "Violation Code  8069BS\n",
      "------\n",
      "73.0    9483\n",
      "68.0       1\n",
      "Name: Fine_amount, dtype: int64\n",
      "--------------------\n"
     ]
    }
   ],
   "source": [
    "for code in codes:\n",
    "    print('Violation Code ', code)\n",
    "    print('------')\n",
    "    print(df_pandas.loc[df_pandas.Violation_code == code].Fine_amount.value_counts())\n",
    "    print('--------------------')"
   ]
  },
  {
   "cell_type": "code",
   "execution_count": 33,
   "id": "292225de",
   "metadata": {},
   "outputs": [
    {
     "data": {
      "text/plain": [
       "{'0': 59.0, '80.69.2': 104.67, '80.71.3': 101.33, '8069BS': 70.5}"
      ]
     },
     "execution_count": 33,
     "metadata": {},
     "output_type": "execute_result"
    }
   ],
   "source": [
    "code_fine_dict = {}\n",
    "for code in codes:\n",
    "    fines = df_pandas.loc[df_pandas.Violation_code == code,:].Fine_amount.value_counts().index.to_list()\n",
    "    avg_fine = sum(fines) / len(fines)\n",
    "    code_fine_dict[code] = round(avg_fine, 2)\n",
    "\n",
    "code_fine_dict"
   ]
  },
  {
   "cell_type": "code",
   "execution_count": 34,
   "id": "2f74986a",
   "metadata": {},
   "outputs": [
    {
     "name": "stderr",
     "output_type": "stream",
     "text": [
      "C:\\Users\\jesus.baquiax\\Anaconda3\\lib\\site-packages\\pandas\\core\\indexing.py:1817: SettingWithCopyWarning: \n",
      "A value is trying to be set on a copy of a slice from a DataFrame.\n",
      "Try using .loc[row_indexer,col_indexer] = value instead\n",
      "\n",
      "See the caveats in the documentation: https://pandas.pydata.org/pandas-docs/stable/user_guide/indexing.html#returning-a-view-versus-a-copy\n",
      "  self._setitem_single_column(loc, value, pi)\n"
     ]
    }
   ],
   "source": [
    "for key, value in code_fine_dict.items():\n",
    "    df_nofine.loc[df_nofine.Violation_code == key, 'Fine_amount'] = value"
   ]
  },
  {
   "cell_type": "code",
   "execution_count": 35,
   "id": "96b63e66",
   "metadata": {},
   "outputs": [],
   "source": [
    "df_pandas.loc[df_pandas.Fine_amount.isna(), 'Fine_amount'] = df_nofine.loc[:, 'Fine_amount']"
   ]
  },
  {
   "cell_type": "code",
   "execution_count": 36,
   "id": "f81d28bb",
   "metadata": {},
   "outputs": [
    {
     "data": {
      "text/plain": [
       "Ticket_number                 0\n",
       "Issue_Date                    0\n",
       "Issue_time                  136\n",
       "Meter_Id                 500421\n",
       "RP_State_Plate                0\n",
       "Plate_Expiry_Date         66385\n",
       "Make                        506\n",
       "Body_Style                  448\n",
       "Color                       233\n",
       "Location                      0\n",
       "Route                      3626\n",
       "Agency                        0\n",
       "Violation_code                0\n",
       "Violation_Description        30\n",
       "Fine_amount                   0\n",
       "Latitude                      0\n",
       "Longitude                     0\n",
       "Distance_to_pointA            0\n",
       "dtype: int64"
      ]
     },
     "execution_count": 36,
     "metadata": {},
     "output_type": "execute_result"
    }
   ],
   "source": [
    "# Use your knowledge to handle the missing values, you need to impute values based on useful information of other columns \n",
    "df_pandas.isna().sum()"
   ]
  },
  {
   "attachments": {
    "address_columns.PNG": {
     "image/png": "[encoded data removed]"
    }
   },
   "cell_type": "markdown",
   "id": "5e2550c4",
   "metadata": {},
   "source": [
    "##### 12. Split the \"Location\" column into new columns using SPACE as delimiter. You may need to write a function. The final splitted data should be structured like below (the number of columns may be different):\n",
    "![address_columns.PNG](attachment:address_columns.PNG)"
   ]
  },
  {
   "cell_type": "code",
   "execution_count": 37,
   "id": "588ee850",
   "metadata": {},
   "outputs": [
    {
     "data": {
      "text/html": [
       "<div>\n",
       "<style scoped>\n",
       "    .dataframe tbody tr th:only-of-type {\n",
       "        vertical-align: middle;\n",
       "    }\n",
       "\n",
       "    .dataframe tbody tr th {\n",
       "        vertical-align: top;\n",
       "    }\n",
       "\n",
       "    .dataframe thead th {\n",
       "        text-align: right;\n",
       "    }\n",
       "</style>\n",
       "<table border=\"1\" class=\"dataframe\">\n",
       "  <thead>\n",
       "    <tr style=\"text-align: right;\">\n",
       "      <th></th>\n",
       "      <th>Ticket_number</th>\n",
       "      <th>Issue_Date</th>\n",
       "      <th>Issue_time</th>\n",
       "      <th>Meter_Id</th>\n",
       "      <th>RP_State_Plate</th>\n",
       "      <th>Plate_Expiry_Date</th>\n",
       "      <th>Make</th>\n",
       "      <th>Body_Style</th>\n",
       "      <th>Color</th>\n",
       "      <th>Location</th>\n",
       "      <th>...</th>\n",
       "      <th>Longitude</th>\n",
       "      <th>Distance_to_pointA</th>\n",
       "      <th>address_0</th>\n",
       "      <th>address_1</th>\n",
       "      <th>address_2</th>\n",
       "      <th>address_3</th>\n",
       "      <th>address_4</th>\n",
       "      <th>address_5</th>\n",
       "      <th>address_6</th>\n",
       "      <th>address_7</th>\n",
       "    </tr>\n",
       "  </thead>\n",
       "  <tbody>\n",
       "    <tr>\n",
       "      <th>6</th>\n",
       "      <td>1108321723</td>\n",
       "      <td>2015-12-21</td>\n",
       "      <td>1041.0</td>\n",
       "      <td>NaN</td>\n",
       "      <td>CA</td>\n",
       "      <td>201610.0</td>\n",
       "      <td>HOND</td>\n",
       "      <td>PA</td>\n",
       "      <td>BK</td>\n",
       "      <td>10635 FRIAR ST</td>\n",
       "      <td>...</td>\n",
       "      <td>1890192.1</td>\n",
       "      <td>88306.639287</td>\n",
       "      <td>10635</td>\n",
       "      <td>FRIAR</td>\n",
       "      <td>ST</td>\n",
       "      <td>None</td>\n",
       "      <td>None</td>\n",
       "      <td>None</td>\n",
       "      <td>None</td>\n",
       "      <td>None</td>\n",
       "    </tr>\n",
       "    <tr>\n",
       "      <th>15</th>\n",
       "      <td>1109139006</td>\n",
       "      <td>2015-12-19</td>\n",
       "      <td>1550.0</td>\n",
       "      <td>NaN</td>\n",
       "      <td>CA</td>\n",
       "      <td>201608.0</td>\n",
       "      <td>HOND</td>\n",
       "      <td>NaN</td>\n",
       "      <td>GO</td>\n",
       "      <td>14006 RIVERSIDE DR</td>\n",
       "      <td>...</td>\n",
       "      <td>1880027.3</td>\n",
       "      <td>78100.902608</td>\n",
       "      <td>14006</td>\n",
       "      <td>RIVERSIDE</td>\n",
       "      <td>DR</td>\n",
       "      <td>None</td>\n",
       "      <td>None</td>\n",
       "      <td>None</td>\n",
       "      <td>None</td>\n",
       "      <td>None</td>\n",
       "    </tr>\n",
       "    <tr>\n",
       "      <th>16</th>\n",
       "      <td>1109455266</td>\n",
       "      <td>2015-12-26</td>\n",
       "      <td>1815.0</td>\n",
       "      <td>NaN</td>\n",
       "      <td>NY</td>\n",
       "      <td>NaN</td>\n",
       "      <td>TOYO</td>\n",
       "      <td>PA</td>\n",
       "      <td>WH</td>\n",
       "      <td>3200 CANYON DR</td>\n",
       "      <td>...</td>\n",
       "      <td>1868721.0</td>\n",
       "      <td>71524.660929</td>\n",
       "      <td>3200</td>\n",
       "      <td>CANYON</td>\n",
       "      <td>DR</td>\n",
       "      <td>None</td>\n",
       "      <td>None</td>\n",
       "      <td>None</td>\n",
       "      <td>None</td>\n",
       "      <td>None</td>\n",
       "    </tr>\n",
       "    <tr>\n",
       "      <th>17</th>\n",
       "      <td>1109455270</td>\n",
       "      <td>2015-12-27</td>\n",
       "      <td>1815.0</td>\n",
       "      <td>NaN</td>\n",
       "      <td>CA</td>\n",
       "      <td>201603.0</td>\n",
       "      <td>INFI</td>\n",
       "      <td>PA</td>\n",
       "      <td>GY</td>\n",
       "      <td>3200 CANYON DR</td>\n",
       "      <td>...</td>\n",
       "      <td>1868721.0</td>\n",
       "      <td>71524.660929</td>\n",
       "      <td>3200</td>\n",
       "      <td>CANYON</td>\n",
       "      <td>DR</td>\n",
       "      <td>None</td>\n",
       "      <td>None</td>\n",
       "      <td>None</td>\n",
       "      <td>None</td>\n",
       "      <td>None</td>\n",
       "    </tr>\n",
       "    <tr>\n",
       "      <th>18</th>\n",
       "      <td>1109455745</td>\n",
       "      <td>2015-12-23</td>\n",
       "      <td>2140.0</td>\n",
       "      <td>NaN</td>\n",
       "      <td>CA</td>\n",
       "      <td>201512.0</td>\n",
       "      <td>TOYO</td>\n",
       "      <td>TR</td>\n",
       "      <td>BL</td>\n",
       "      <td>835 N ACADEMY RD</td>\n",
       "      <td>...</td>\n",
       "      <td>1851321.5</td>\n",
       "      <td>69935.016471</td>\n",
       "      <td>835</td>\n",
       "      <td>N</td>\n",
       "      <td>ACADEMY</td>\n",
       "      <td>RD</td>\n",
       "      <td>None</td>\n",
       "      <td>None</td>\n",
       "      <td>None</td>\n",
       "      <td>None</td>\n",
       "    </tr>\n",
       "    <tr>\n",
       "      <th>...</th>\n",
       "      <td>...</td>\n",
       "      <td>...</td>\n",
       "      <td>...</td>\n",
       "      <td>...</td>\n",
       "      <td>...</td>\n",
       "      <td>...</td>\n",
       "      <td>...</td>\n",
       "      <td>...</td>\n",
       "      <td>...</td>\n",
       "      <td>...</td>\n",
       "      <td>...</td>\n",
       "      <td>...</td>\n",
       "      <td>...</td>\n",
       "      <td>...</td>\n",
       "      <td>...</td>\n",
       "      <td>...</td>\n",
       "      <td>...</td>\n",
       "      <td>...</td>\n",
       "      <td>...</td>\n",
       "      <td>...</td>\n",
       "      <td>...</td>\n",
       "    </tr>\n",
       "    <tr>\n",
       "      <th>999966</th>\n",
       "      <td>4250683662</td>\n",
       "      <td>2015-01-13</td>\n",
       "      <td>1605.0</td>\n",
       "      <td>NaN</td>\n",
       "      <td>CA</td>\n",
       "      <td>201410.0</td>\n",
       "      <td>HOND</td>\n",
       "      <td>PA</td>\n",
       "      <td>BK</td>\n",
       "      <td>4401 W 1ST ST</td>\n",
       "      <td>...</td>\n",
       "      <td>1849355.7</td>\n",
       "      <td>54833.860589</td>\n",
       "      <td>4401</td>\n",
       "      <td>W</td>\n",
       "      <td>1ST</td>\n",
       "      <td>ST</td>\n",
       "      <td>None</td>\n",
       "      <td>None</td>\n",
       "      <td>None</td>\n",
       "      <td>None</td>\n",
       "    </tr>\n",
       "    <tr>\n",
       "      <th>999967</th>\n",
       "      <td>4250683673</td>\n",
       "      <td>2015-01-13</td>\n",
       "      <td>1608.0</td>\n",
       "      <td>NaN</td>\n",
       "      <td>CA</td>\n",
       "      <td>201411.0</td>\n",
       "      <td>CHEV</td>\n",
       "      <td>PA</td>\n",
       "      <td>WT</td>\n",
       "      <td>4313 W 1ST ST</td>\n",
       "      <td>...</td>\n",
       "      <td>1849355.8</td>\n",
       "      <td>55000.022331</td>\n",
       "      <td>4313</td>\n",
       "      <td>W</td>\n",
       "      <td>1ST</td>\n",
       "      <td>ST</td>\n",
       "      <td>None</td>\n",
       "      <td>None</td>\n",
       "      <td>None</td>\n",
       "      <td>None</td>\n",
       "    </tr>\n",
       "    <tr>\n",
       "      <th>999968</th>\n",
       "      <td>4250683684</td>\n",
       "      <td>2015-01-14</td>\n",
       "      <td>805.0</td>\n",
       "      <td>NaN</td>\n",
       "      <td>CA</td>\n",
       "      <td>201407.0</td>\n",
       "      <td>MERZ</td>\n",
       "      <td>PA</td>\n",
       "      <td>BK</td>\n",
       "      <td>2234 ADAMS BLVD W</td>\n",
       "      <td>...</td>\n",
       "      <td>1834419.2</td>\n",
       "      <td>41005.644154</td>\n",
       "      <td>2234</td>\n",
       "      <td>ADAMS</td>\n",
       "      <td>BLVD</td>\n",
       "      <td>W</td>\n",
       "      <td>None</td>\n",
       "      <td>None</td>\n",
       "      <td>None</td>\n",
       "      <td>None</td>\n",
       "    </tr>\n",
       "    <tr>\n",
       "      <th>999970</th>\n",
       "      <td>4250683706</td>\n",
       "      <td>2015-01-14</td>\n",
       "      <td>1046.0</td>\n",
       "      <td>NaN</td>\n",
       "      <td>CA</td>\n",
       "      <td>201405.0</td>\n",
       "      <td>GMC</td>\n",
       "      <td>TK</td>\n",
       "      <td>BL</td>\n",
       "      <td>1827 106TH ST E</td>\n",
       "      <td>...</td>\n",
       "      <td>1800576.4</td>\n",
       "      <td>48874.050624</td>\n",
       "      <td>1827</td>\n",
       "      <td>106TH</td>\n",
       "      <td>ST</td>\n",
       "      <td>E</td>\n",
       "      <td>None</td>\n",
       "      <td>None</td>\n",
       "      <td>None</td>\n",
       "      <td>None</td>\n",
       "    </tr>\n",
       "    <tr>\n",
       "      <th>999972</th>\n",
       "      <td>4250683721</td>\n",
       "      <td>2015-01-15</td>\n",
       "      <td>803.0</td>\n",
       "      <td>NaN</td>\n",
       "      <td>CA</td>\n",
       "      <td>NaN</td>\n",
       "      <td>TOYT</td>\n",
       "      <td>PA</td>\n",
       "      <td>TN</td>\n",
       "      <td>802 OCCIDENTAL BLVD N</td>\n",
       "      <td>...</td>\n",
       "      <td>1851626.4</td>\n",
       "      <td>62418.913904</td>\n",
       "      <td>802</td>\n",
       "      <td>OCCIDENTAL</td>\n",
       "      <td>BLVD</td>\n",
       "      <td>N</td>\n",
       "      <td>None</td>\n",
       "      <td>None</td>\n",
       "      <td>None</td>\n",
       "      <td>None</td>\n",
       "    </tr>\n",
       "  </tbody>\n",
       "</table>\n",
       "<p>748312 rows × 26 columns</p>\n",
       "</div>"
      ],
      "text/plain": [
       "       Ticket_number Issue_Date  Issue_time Meter_Id RP_State_Plate  \\\n",
       "6         1108321723 2015-12-21      1041.0      NaN             CA   \n",
       "15        1109139006 2015-12-19      1550.0      NaN             CA   \n",
       "16        1109455266 2015-12-26      1815.0      NaN             NY   \n",
       "17        1109455270 2015-12-27      1815.0      NaN             CA   \n",
       "18        1109455745 2015-12-23      2140.0      NaN             CA   \n",
       "...              ...        ...         ...      ...            ...   \n",
       "999966    4250683662 2015-01-13      1605.0      NaN             CA   \n",
       "999967    4250683673 2015-01-13      1608.0      NaN             CA   \n",
       "999968    4250683684 2015-01-14       805.0      NaN             CA   \n",
       "999970    4250683706 2015-01-14      1046.0      NaN             CA   \n",
       "999972    4250683721 2015-01-15       803.0      NaN             CA   \n",
       "\n",
       "        Plate_Expiry_Date  Make Body_Style Color               Location  ...  \\\n",
       "6                201610.0  HOND         PA    BK         10635 FRIAR ST  ...   \n",
       "15               201608.0  HOND        NaN    GO     14006 RIVERSIDE DR  ...   \n",
       "16                    NaN  TOYO         PA    WH         3200 CANYON DR  ...   \n",
       "17               201603.0  INFI         PA    GY         3200 CANYON DR  ...   \n",
       "18               201512.0  TOYO         TR    BL       835 N ACADEMY RD  ...   \n",
       "...                   ...   ...        ...   ...                    ...  ...   \n",
       "999966           201410.0  HOND         PA    BK          4401 W 1ST ST  ...   \n",
       "999967           201411.0  CHEV         PA    WT          4313 W 1ST ST  ...   \n",
       "999968           201407.0  MERZ         PA    BK      2234 ADAMS BLVD W  ...   \n",
       "999970           201405.0   GMC         TK    BL        1827 106TH ST E  ...   \n",
       "999972                NaN  TOYT         PA    TN  802 OCCIDENTAL BLVD N  ...   \n",
       "\n",
       "        Longitude  Distance_to_pointA address_0   address_1  address_2  \\\n",
       "6       1890192.1        88306.639287     10635       FRIAR         ST   \n",
       "15      1880027.3        78100.902608     14006   RIVERSIDE         DR   \n",
       "16      1868721.0        71524.660929      3200      CANYON         DR   \n",
       "17      1868721.0        71524.660929      3200      CANYON         DR   \n",
       "18      1851321.5        69935.016471       835           N    ACADEMY   \n",
       "...           ...                 ...       ...         ...        ...   \n",
       "999966  1849355.7        54833.860589      4401           W        1ST   \n",
       "999967  1849355.8        55000.022331      4313           W        1ST   \n",
       "999968  1834419.2        41005.644154      2234       ADAMS       BLVD   \n",
       "999970  1800576.4        48874.050624      1827       106TH         ST   \n",
       "999972  1851626.4        62418.913904       802  OCCIDENTAL       BLVD   \n",
       "\n",
       "        address_3  address_4  address_5 address_6 address_7  \n",
       "6            None       None       None      None      None  \n",
       "15           None       None       None      None      None  \n",
       "16           None       None       None      None      None  \n",
       "17           None       None       None      None      None  \n",
       "18             RD       None       None      None      None  \n",
       "...           ...        ...        ...       ...       ...  \n",
       "999966         ST       None       None      None      None  \n",
       "999967         ST       None       None      None      None  \n",
       "999968          W       None       None      None      None  \n",
       "999970          E       None       None      None      None  \n",
       "999972          N       None       None      None      None  \n",
       "\n",
       "[748312 rows x 26 columns]"
      ]
     },
     "execution_count": 37,
     "metadata": {},
     "output_type": "execute_result"
    }
   ],
   "source": [
    "def address_sep(df):\n",
    "    \n",
    "    split_df = df['Location'].str.split(' ', expand=True)\n",
    "    \n",
    "    for x in split_df.columns:\n",
    "        split_df.rename(columns = {x : \"address_\"+str(x)}, inplace=True)\n",
    "        \n",
    "    col_list = list(split_df.columns)\n",
    "    \n",
    "    df_pandas[col_list] = df_pandas['Location'].str.split(' ', expand=True)\n",
    "    \n",
    "    return df_pandas\n",
    "\n",
    "address_sep(df_pandas)"
   ]
  },
  {
   "cell_type": "markdown",
   "id": "c8f6895f",
   "metadata": {},
   "source": [
    "##### 13. Extract the \"Issue_year\" of  \"Issue_Date\" column and save it as a new column \"Issue_year\" as an integer type."
   ]
  },
  {
   "cell_type": "code",
   "execution_count": 38,
   "id": "709218fd",
   "metadata": {},
   "outputs": [],
   "source": [
    "df_pandas['Issue_year'] = df_pandas['Issue_Date'].dt.year"
   ]
  },
  {
   "cell_type": "code",
   "execution_count": 39,
   "id": "421c3659",
   "metadata": {},
   "outputs": [
    {
     "name": "stdout",
     "output_type": "stream",
     "text": [
      "<class 'pandas.core.frame.DataFrame'>\n",
      "Int64Index: 748312 entries, 6 to 999972\n",
      "Data columns (total 27 columns):\n",
      " #   Column                 Non-Null Count   Dtype         \n",
      "---  ------                 --------------   -----         \n",
      " 0   Ticket_number          748312 non-null  string        \n",
      " 1   Issue_Date             748312 non-null  datetime64[ns]\n",
      " 2   Issue_time             748176 non-null  float64       \n",
      " 3   Meter_Id               247891 non-null  object        \n",
      " 4   RP_State_Plate         748312 non-null  object        \n",
      " 5   Plate_Expiry_Date      681927 non-null  float64       \n",
      " 6   Make                   747806 non-null  object        \n",
      " 7   Body_Style             747864 non-null  object        \n",
      " 8   Color                  748079 non-null  object        \n",
      " 9   Location               748312 non-null  object        \n",
      " 10  Route                  744686 non-null  object        \n",
      " 11  Agency                 748312 non-null  float64       \n",
      " 12  Violation_code         748312 non-null  object        \n",
      " 13  Violation_Description  748282 non-null  object        \n",
      " 14  Fine_amount            748312 non-null  float64       \n",
      " 15  Latitude               748312 non-null  float64       \n",
      " 16  Longitude              748312 non-null  float64       \n",
      " 17  Distance_to_pointA     748312 non-null  float64       \n",
      " 18  address_0              748312 non-null  object        \n",
      " 19  address_1              748287 non-null  object        \n",
      " 20  address_2              745962 non-null  object        \n",
      " 21  address_3              350119 non-null  object        \n",
      " 22  address_4              37665 non-null   object        \n",
      " 23  address_5              3575 non-null    object        \n",
      " 24  address_6              114 non-null     object        \n",
      " 25  address_7              1 non-null       object        \n",
      " 26  Issue_year             748312 non-null  int64         \n",
      "dtypes: datetime64[ns](1), float64(7), int64(1), object(17), string(1)\n",
      "memory usage: 159.9+ MB\n"
     ]
    }
   ],
   "source": [
    "df_pandas.info()"
   ]
  },
  {
   "cell_type": "code",
   "execution_count": 40,
   "id": "fd26e810",
   "metadata": {},
   "outputs": [
    {
     "data": {
      "text/plain": [
       "(748312, 27)"
      ]
     },
     "execution_count": 40,
     "metadata": {},
     "output_type": "execute_result"
    }
   ],
   "source": [
    "df_pandas.shape"
   ]
  },
  {
   "cell_type": "markdown",
   "id": "a79ab955",
   "metadata": {},
   "source": [
    "##### 14. Write the pandas dataframe into a Parquet file (cleaned_parking_citations) partition by \"Year\" column. "
   ]
  },
  {
   "cell_type": "code",
   "execution_count": 41,
   "id": "4ef0c4c0",
   "metadata": {},
   "outputs": [],
   "source": [
    "df_pandas.to_parquet('df_pandas.parquet.gzip', compression='gzip', partition_cols='Issue_year')"
   ]
  },
  {
   "cell_type": "code",
   "execution_count": null,
   "id": "f69df405",
   "metadata": {},
   "outputs": [],
   "source": []
  }
 ],
 "metadata": {
  "kernelspec": {
   "display_name": "Python 3 (ipykernel)",
   "language": "python",
   "name": "python3"
  },
  "language_info": {
   "codemirror_mode": {
    "name": "ipython",
    "version": 3
   },
   "file_extension": ".py",
   "mimetype": "text/x-python",
   "name": "python",
   "nbconvert_exporter": "python",
   "pygments_lexer": "ipython3",
   "version": "3.9.7"
  }
 },
 "nbformat": 4,
 "nbformat_minor": 5
}
